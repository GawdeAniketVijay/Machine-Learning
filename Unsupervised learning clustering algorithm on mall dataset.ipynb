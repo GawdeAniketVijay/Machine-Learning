{
 "cells": [
  {
   "cell_type": "markdown",
   "id": "0e4cf28c",
   "metadata": {},
   "source": [
    "# 1.Clustering Algorithm:-\n",
    "    a.K-means Algorithm:-In this we have only one features (Input)"
   ]
  },
  {
   "cell_type": "code",
   "execution_count": 1,
   "id": "c9fe0a7f",
   "metadata": {},
   "outputs": [],
   "source": [
    "import numpy as np\n",
    "import pandas as pd\n",
    "import seaborn as sb\n",
    "import matplotlib.pyplot as plt\n",
    "import warnings\n",
    "warnings.filterwarnings('ignore')"
   ]
  },
  {
   "cell_type": "code",
   "execution_count": 2,
   "id": "76f44b20",
   "metadata": {},
   "outputs": [
    {
     "data": {
      "text/html": [
       "<div>\n",
       "<style scoped>\n",
       "    .dataframe tbody tr th:only-of-type {\n",
       "        vertical-align: middle;\n",
       "    }\n",
       "\n",
       "    .dataframe tbody tr th {\n",
       "        vertical-align: top;\n",
       "    }\n",
       "\n",
       "    .dataframe thead th {\n",
       "        text-align: right;\n",
       "    }\n",
       "</style>\n",
       "<table border=\"1\" class=\"dataframe\">\n",
       "  <thead>\n",
       "    <tr style=\"text-align: right;\">\n",
       "      <th></th>\n",
       "      <th>INCOME</th>\n",
       "      <th>SPEND</th>\n",
       "    </tr>\n",
       "  </thead>\n",
       "  <tbody>\n",
       "    <tr>\n",
       "      <th>0</th>\n",
       "      <td>233</td>\n",
       "      <td>150</td>\n",
       "    </tr>\n",
       "    <tr>\n",
       "      <th>1</th>\n",
       "      <td>250</td>\n",
       "      <td>187</td>\n",
       "    </tr>\n",
       "    <tr>\n",
       "      <th>2</th>\n",
       "      <td>204</td>\n",
       "      <td>172</td>\n",
       "    </tr>\n",
       "    <tr>\n",
       "      <th>3</th>\n",
       "      <td>236</td>\n",
       "      <td>178</td>\n",
       "    </tr>\n",
       "    <tr>\n",
       "      <th>4</th>\n",
       "      <td>354</td>\n",
       "      <td>163</td>\n",
       "    </tr>\n",
       "  </tbody>\n",
       "</table>\n",
       "</div>"
      ],
      "text/plain": [
       "   INCOME  SPEND\n",
       "0     233    150\n",
       "1     250    187\n",
       "2     204    172\n",
       "3     236    178\n",
       "4     354    163"
      ]
     },
     "execution_count": 2,
     "metadata": {},
     "output_type": "execute_result"
    }
   ],
   "source": [
    "#To load dataset\n",
    "ml=pd.read_csv(\"mall.csv\")\n",
    "ml.head()"
   ]
  },
  {
   "cell_type": "code",
   "execution_count": 3,
   "id": "aed34d2d",
   "metadata": {},
   "outputs": [
    {
     "data": {
      "text/plain": [
       "(303, 2)"
      ]
     },
     "execution_count": 3,
     "metadata": {},
     "output_type": "execute_result"
    }
   ],
   "source": [
    "ml.shape"
   ]
  },
  {
   "cell_type": "code",
   "execution_count": 4,
   "id": "e89d7d2e",
   "metadata": {},
   "outputs": [
    {
     "data": {
      "text/plain": [
       "INCOME    0\n",
       "SPEND     0\n",
       "dtype: int64"
      ]
     },
     "execution_count": 4,
     "metadata": {},
     "output_type": "execute_result"
    }
   ],
   "source": [
    "#check null value\n",
    "ml.isnull().sum()"
   ]
  },
  {
   "cell_type": "code",
   "execution_count": 5,
   "id": "75c1f7f0",
   "metadata": {},
   "outputs": [
    {
     "data": {
      "text/plain": [
       "INCOME    int64\n",
       "SPEND     int64\n",
       "dtype: object"
      ]
     },
     "execution_count": 5,
     "metadata": {},
     "output_type": "execute_result"
    }
   ],
   "source": [
    "#check dtypes\n",
    "ml.dtypes"
   ]
  },
  {
   "cell_type": "code",
   "execution_count": 6,
   "id": "482bd822",
   "metadata": {},
   "outputs": [
    {
     "name": "stdout",
     "output_type": "stream",
     "text": [
      "<class 'pandas.core.frame.DataFrame'>\n",
      "RangeIndex: 303 entries, 0 to 302\n",
      "Data columns (total 2 columns):\n",
      " #   Column  Non-Null Count  Dtype\n",
      "---  ------  --------------  -----\n",
      " 0   INCOME  303 non-null    int64\n",
      " 1   SPEND   303 non-null    int64\n",
      "dtypes: int64(2)\n",
      "memory usage: 4.9 KB\n"
     ]
    }
   ],
   "source": [
    "ml.info()"
   ]
  },
  {
   "cell_type": "markdown",
   "id": "35ef2dff",
   "metadata": {},
   "source": [
    "# Scaling"
   ]
  },
  {
   "cell_type": "code",
   "execution_count": 7,
   "id": "db8ac8be",
   "metadata": {},
   "outputs": [],
   "source": [
    "#Apply Scaling:StandardScaler\n",
    "from sklearn.preprocessing import StandardScaler"
   ]
  },
  {
   "cell_type": "code",
   "execution_count": 8,
   "id": "3523b9b1",
   "metadata": {},
   "outputs": [
    {
     "name": "stdout",
     "output_type": "stream",
     "text": [
      "Index(['INCOME', 'SPEND'], dtype='object')\n"
     ]
    }
   ],
   "source": [
    "X=ml.columns\n",
    "print(X)\n",
    "for col in X:\n",
    "    #create a object of standardscaler\n",
    "    ss=StandardScaler()\n",
    "    ml[col]=ss.fit_transform(ml[[col]])"
   ]
  },
  {
   "cell_type": "code",
   "execution_count": 9,
   "id": "52a38b35",
   "metadata": {},
   "outputs": [
    {
     "data": {
      "text/html": [
       "<div>\n",
       "<style scoped>\n",
       "    .dataframe tbody tr th:only-of-type {\n",
       "        vertical-align: middle;\n",
       "    }\n",
       "\n",
       "    .dataframe tbody tr th {\n",
       "        vertical-align: top;\n",
       "    }\n",
       "\n",
       "    .dataframe thead th {\n",
       "        text-align: right;\n",
       "    }\n",
       "</style>\n",
       "<table border=\"1\" class=\"dataframe\">\n",
       "  <thead>\n",
       "    <tr style=\"text-align: right;\">\n",
       "      <th></th>\n",
       "      <th>INCOME</th>\n",
       "      <th>SPEND</th>\n",
       "    </tr>\n",
       "  </thead>\n",
       "  <tbody>\n",
       "    <tr>\n",
       "      <th>0</th>\n",
       "      <td>-0.253492</td>\n",
       "      <td>0.015443</td>\n",
       "    </tr>\n",
       "    <tr>\n",
       "      <th>1</th>\n",
       "      <td>0.097607</td>\n",
       "      <td>1.633471</td>\n",
       "    </tr>\n",
       "    <tr>\n",
       "      <th>2</th>\n",
       "      <td>-0.852427</td>\n",
       "      <td>0.977514</td>\n",
       "    </tr>\n",
       "    <tr>\n",
       "      <th>3</th>\n",
       "      <td>-0.191534</td>\n",
       "      <td>1.239897</td>\n",
       "    </tr>\n",
       "    <tr>\n",
       "      <th>4</th>\n",
       "      <td>2.245510</td>\n",
       "      <td>0.583939</td>\n",
       "    </tr>\n",
       "  </tbody>\n",
       "</table>\n",
       "</div>"
      ],
      "text/plain": [
       "     INCOME     SPEND\n",
       "0 -0.253492  0.015443\n",
       "1  0.097607  1.633471\n",
       "2 -0.852427  0.977514\n",
       "3 -0.191534  1.239897\n",
       "4  2.245510  0.583939"
      ]
     },
     "execution_count": 9,
     "metadata": {},
     "output_type": "execute_result"
    }
   ],
   "source": [
    "#checking scaling is apply or not\n",
    "ml.head()"
   ]
  },
  {
   "cell_type": "code",
   "execution_count": 10,
   "id": "d437b6b3",
   "metadata": {},
   "outputs": [
    {
     "data": {
      "image/png": "[encoded data removed]",
      "text/plain": [
       "<Figure size 432x288 with 1 Axes>"
      ]
     },
     "metadata": {
      "needs_background": "light"
     },
     "output_type": "display_data"
    }
   ],
   "source": [
    "#Visualise dataset use scaterplot\n",
    "X=ml[\"INCOME\"]\n",
    "Y=ml[\"SPEND\"]\n",
    "plt.scatter(X,Y)\n",
    "plt.xlabel('INCOME')\n",
    "plt.ylabel('SPEND')\n",
    "plt.show()"
   ]
  },
  {
   "cell_type": "code",
   "execution_count": 11,
   "id": "782f515d",
   "metadata": {},
   "outputs": [],
   "source": [
    " #how many cluster K in this dataset\n",
    "# call class Kmeans inbuilt call\n",
    "from sklearn.cluster import KMeans #Kmeans inbuilt class"
   ]
  },
  {
   "cell_type": "markdown",
   "id": "ee6f9358",
   "metadata": {},
   "source": [
    "# Elbow Method : - use : How many clusters K in this dataset"
   ]
  },
  {
   "cell_type": "code",
   "execution_count": 12,
   "id": "a1cd5ea3",
   "metadata": {},
   "outputs": [],
   "source": [
    "k_rng=range(1,21) \n",
    "#declare empty list \n",
    "SSE=[]\n",
    "#declare empty list for k\n",
    "k_cluster=[]\n",
    "for k in k_rng:\n",
    "    #create object of Kmeans class\n",
    "    km=KMeans(n_clusters=k) #n_cluster means number of cluster  #FIRST TIME K=1 then K=2\n",
    "    #we trained the model use fit() method\n",
    "    km.fit(ml[[\"INCOME\",\"SPEND\"]])\n",
    "    #inertia_ inbuilt method of KMeans class with calculate the sum of squared error\n",
    "    #formula of SSE=sum(centrepoint-datapoint)^2\n",
    "    SSE.append(km.inertia_)\n",
    "    k_cluster.append(k)"
   ]
  },
  {
   "cell_type": "code",
   "execution_count": 13,
   "id": "119665d3",
   "metadata": {},
   "outputs": [
    {
     "name": "stdout",
     "output_type": "stream",
     "text": [
      "sum of squared error :\n",
      "[605.9999999999998, 401.22497812124897, 253.49782271824623, 199.40902844561683, 155.78714284971002, 131.28486340961044, 114.91078324592787, 101.99150529433898, 90.94501259748598, 81.16561319461738, 73.06149077263235, 66.1046872666576, 62.16986748045588, 57.48197039371059, 52.542839826656575, 48.64912147862989, 45.34591958574845, 42.97658650614691, 39.95216595858912, 38.08522510032773]\n",
      "value of cluster k :\n",
      "[1, 2, 3, 4, 5, 6, 7, 8, 9, 10, 11, 12, 13, 14, 15, 16, 17, 18, 19, 20]\n"
     ]
    }
   ],
   "source": [
    "print(\"sum of squared error :\")\n",
    "print(SSE)\n",
    "print(\"value of cluster k :\")\n",
    "print(k_cluster)"
   ]
  },
  {
   "cell_type": "code",
   "execution_count": 14,
   "id": "df46fced",
   "metadata": {},
   "outputs": [
    {
     "data": {
      "image/png": "[encoded data removed]",
      "text/plain": [
       "<Figure size 576x576 with 1 Axes>"
      ]
     },
     "metadata": {
      "needs_background": "light"
     },
     "output_type": "display_data"
    }
   ],
   "source": [
    "#visulalize SSE and value of k\n",
    "plt.figure(figsize=(8,8))\n",
    "plt.scatter(k_rng,SSE,color='red')\n",
    "plt.plot(k_rng,SSE) #this is use for line to joint datapoints\n",
    "plt.xticks(k_rng)\n",
    "plt.xlabel('value of k ')\n",
    "plt.ylabel('sum of squared of error SSE')\n",
    "plt.title(\"Elbow Method\")\n",
    "plt.show()"
   ]
  },
  {
   "cell_type": "code",
   "execution_count": 15,
   "id": "22e06c74",
   "metadata": {},
   "outputs": [],
   "source": [
    "#clear no.of cluster=5 to see above visualisation in this dataset"
   ]
  },
  {
   "cell_type": "code",
   "execution_count": 16,
   "id": "330ba90a",
   "metadata": {},
   "outputs": [],
   "source": [
    "km=KMeans(n_clusters=5,random_state=1) #passing the value of k means no.of cluster"
   ]
  },
  {
   "cell_type": "code",
   "execution_count": 17,
   "id": "2c63c50e",
   "metadata": {},
   "outputs": [],
   "source": [
    "Y_pred=km.fit_predict(ml[[\"INCOME\",\"SPEND\"]])"
   ]
  },
  {
   "cell_type": "code",
   "execution_count": 18,
   "id": "f78986bb",
   "metadata": {},
   "outputs": [
    {
     "name": "stdout",
     "output_type": "stream",
     "text": [
      "[0 3 3 3 4 1 4 0 3 3 0 0 0 1 0 3 4 1 3 0 0 3 3 0 3 4 3 1 4 3 3 1 3 0 1 3 4\n",
      " 3 0 4 4 3 0 0 4 4 3 0 1 0 0 4 0 3 3 3 3 3 3 4 2 4 3 1 3 3 0 3 3 3 0 0 3 3\n",
      " 3 0 0 3 3 0 3 4 4 4 2 0 0 3 3 2 3 3 3 4 1 1 4 0 4 3 3 0 3 3 3 1 1 0 0 0 4\n",
      " 3 2 3 0 3 3 3 3 0 2 3 0 0 3 3 1 0 3 2 3 0 4 0 4 0 1 1 1 2 4 4 3 0 1 0 0 3\n",
      " 3 1 0 1 0 0 0 1 3 3 0 3 3 4 3 3 3 2 1 0 0 3 0 3 4 3 1 1 0 4 1 2 4 1 4 3 2\n",
      " 4 0 2 3 3 4 1 1 0 3 4 0 0 2 0 3 0 2 0 1 0 0 0 1 3 0 0 1 4 0 4 2 4 2 0 4 1\n",
      " 4 2 1 1 2 1 4 2 0 2 0 2 2 4 4 4 4 0 2 0 1 2 1 0 4 2 3 0 2 0 2 2 2 4 2 1 0\n",
      " 3 3 0 2 0 1 1 2 1 2 2 0 0 2 0 2 3 1 0 4 1 2 3 1 3 1 2 3 3 4 1 3 4 0 0 1 1\n",
      " 1 1 2 2 1 1 3]\n"
     ]
    }
   ],
   "source": [
    "print(Y_pred)"
   ]
  },
  {
   "cell_type": "code",
   "execution_count": 19,
   "id": "582386a1",
   "metadata": {},
   "outputs": [
    {
     "data": {
      "text/html": [
       "<div>\n",
       "<style scoped>\n",
       "    .dataframe tbody tr th:only-of-type {\n",
       "        vertical-align: middle;\n",
       "    }\n",
       "\n",
       "    .dataframe tbody tr th {\n",
       "        vertical-align: top;\n",
       "    }\n",
       "\n",
       "    .dataframe thead th {\n",
       "        text-align: right;\n",
       "    }\n",
       "</style>\n",
       "<table border=\"1\" class=\"dataframe\">\n",
       "  <thead>\n",
       "    <tr style=\"text-align: right;\">\n",
       "      <th></th>\n",
       "      <th>INCOME</th>\n",
       "      <th>SPEND</th>\n",
       "      <th>cluster</th>\n",
       "    </tr>\n",
       "  </thead>\n",
       "  <tbody>\n",
       "    <tr>\n",
       "      <th>0</th>\n",
       "      <td>-0.253492</td>\n",
       "      <td>0.015443</td>\n",
       "      <td>0</td>\n",
       "    </tr>\n",
       "    <tr>\n",
       "      <th>1</th>\n",
       "      <td>0.097607</td>\n",
       "      <td>1.633471</td>\n",
       "      <td>3</td>\n",
       "    </tr>\n",
       "    <tr>\n",
       "      <th>2</th>\n",
       "      <td>-0.852427</td>\n",
       "      <td>0.977514</td>\n",
       "      <td>3</td>\n",
       "    </tr>\n",
       "    <tr>\n",
       "      <th>3</th>\n",
       "      <td>-0.191534</td>\n",
       "      <td>1.239897</td>\n",
       "      <td>3</td>\n",
       "    </tr>\n",
       "    <tr>\n",
       "      <th>4</th>\n",
       "      <td>2.245510</td>\n",
       "      <td>0.583939</td>\n",
       "      <td>4</td>\n",
       "    </tr>\n",
       "    <tr>\n",
       "      <th>5</th>\n",
       "      <td>-1.100262</td>\n",
       "      <td>-0.072018</td>\n",
       "      <td>1</td>\n",
       "    </tr>\n",
       "    <tr>\n",
       "      <th>6</th>\n",
       "      <td>1.006335</td>\n",
       "      <td>0.146634</td>\n",
       "      <td>4</td>\n",
       "    </tr>\n",
       "    <tr>\n",
       "      <th>7</th>\n",
       "      <td>0.366095</td>\n",
       "      <td>1.021244</td>\n",
       "      <td>0</td>\n",
       "    </tr>\n",
       "    <tr>\n",
       "      <th>8</th>\n",
       "      <td>-0.955692</td>\n",
       "      <td>0.540209</td>\n",
       "      <td>3</td>\n",
       "    </tr>\n",
       "    <tr>\n",
       "      <th>9</th>\n",
       "      <td>-1.595932</td>\n",
       "      <td>1.064975</td>\n",
       "      <td>3</td>\n",
       "    </tr>\n",
       "  </tbody>\n",
       "</table>\n",
       "</div>"
      ],
      "text/plain": [
       "     INCOME     SPEND  cluster\n",
       "0 -0.253492  0.015443        0\n",
       "1  0.097607  1.633471        3\n",
       "2 -0.852427  0.977514        3\n",
       "3 -0.191534  1.239897        3\n",
       "4  2.245510  0.583939        4\n",
       "5 -1.100262 -0.072018        1\n",
       "6  1.006335  0.146634        4\n",
       "7  0.366095  1.021244        0\n",
       "8 -0.955692  0.540209        3\n",
       "9 -1.595932  1.064975        3"
      ]
     },
     "execution_count": 19,
     "metadata": {},
     "output_type": "execute_result"
    }
   ],
   "source": [
    "# Add new column after fit_predict in dataset ml\n",
    "#ml['New column']=new value\n",
    "ml[\"cluster\"]=Y_pred\n",
    "ml.head(10)"
   ]
  },
  {
   "cell_type": "code",
   "execution_count": 20,
   "id": "aada8a07",
   "metadata": {},
   "outputs": [],
   "source": [
    "#craete 5 dataframe accordung to cluster\n",
    "ml0=ml[ml['cluster']==0]\n",
    "ml1=ml[ml['cluster']==1]\n",
    "ml2=ml[ml['cluster']==2]\n",
    "ml3=ml[ml['cluster']==3]\n",
    "ml4=ml[ml['cluster']==4]"
   ]
  },
  {
   "cell_type": "code",
   "execution_count": 21,
   "id": "0cfb1454",
   "metadata": {},
   "outputs": [
    {
     "data": {
      "text/html": [
       "<div>\n",
       "<style scoped>\n",
       "    .dataframe tbody tr th:only-of-type {\n",
       "        vertical-align: middle;\n",
       "    }\n",
       "\n",
       "    .dataframe tbody tr th {\n",
       "        vertical-align: top;\n",
       "    }\n",
       "\n",
       "    .dataframe thead th {\n",
       "        text-align: right;\n",
       "    }\n",
       "</style>\n",
       "<table border=\"1\" class=\"dataframe\">\n",
       "  <thead>\n",
       "    <tr style=\"text-align: right;\">\n",
       "      <th></th>\n",
       "      <th>INCOME</th>\n",
       "      <th>SPEND</th>\n",
       "      <th>cluster</th>\n",
       "    </tr>\n",
       "  </thead>\n",
       "  <tbody>\n",
       "    <tr>\n",
       "      <th>0</th>\n",
       "      <td>-0.253492</td>\n",
       "      <td>0.015443</td>\n",
       "      <td>0</td>\n",
       "    </tr>\n",
       "    <tr>\n",
       "      <th>7</th>\n",
       "      <td>0.366095</td>\n",
       "      <td>1.021244</td>\n",
       "      <td>0</td>\n",
       "    </tr>\n",
       "    <tr>\n",
       "      <th>10</th>\n",
       "      <td>-0.129575</td>\n",
       "      <td>0.452748</td>\n",
       "      <td>0</td>\n",
       "    </tr>\n",
       "    <tr>\n",
       "      <th>11</th>\n",
       "      <td>0.613930</td>\n",
       "      <td>-0.465593</td>\n",
       "      <td>0</td>\n",
       "    </tr>\n",
       "    <tr>\n",
       "      <th>12</th>\n",
       "      <td>0.428054</td>\n",
       "      <td>0.933783</td>\n",
       "      <td>0</td>\n",
       "    </tr>\n",
       "  </tbody>\n",
       "</table>\n",
       "</div>"
      ],
      "text/plain": [
       "      INCOME     SPEND  cluster\n",
       "0  -0.253492  0.015443        0\n",
       "7   0.366095  1.021244        0\n",
       "10 -0.129575  0.452748        0\n",
       "11  0.613930 -0.465593        0\n",
       "12  0.428054  0.933783        0"
      ]
     },
     "execution_count": 21,
     "metadata": {},
     "output_type": "execute_result"
    }
   ],
   "source": [
    "ml0.head()"
   ]
  },
  {
   "cell_type": "code",
   "execution_count": 22,
   "id": "fe6b3996",
   "metadata": {},
   "outputs": [
    {
     "data": {
      "text/html": [
       "<div>\n",
       "<style scoped>\n",
       "    .dataframe tbody tr th:only-of-type {\n",
       "        vertical-align: middle;\n",
       "    }\n",
       "\n",
       "    .dataframe tbody tr th {\n",
       "        vertical-align: top;\n",
       "    }\n",
       "\n",
       "    .dataframe thead th {\n",
       "        text-align: right;\n",
       "    }\n",
       "</style>\n",
       "<table border=\"1\" class=\"dataframe\">\n",
       "  <thead>\n",
       "    <tr style=\"text-align: right;\">\n",
       "      <th></th>\n",
       "      <th>INCOME</th>\n",
       "      <th>SPEND</th>\n",
       "      <th>cluster</th>\n",
       "    </tr>\n",
       "  </thead>\n",
       "  <tbody>\n",
       "    <tr>\n",
       "      <th>5</th>\n",
       "      <td>-1.100262</td>\n",
       "      <td>-0.072018</td>\n",
       "      <td>1</td>\n",
       "    </tr>\n",
       "    <tr>\n",
       "      <th>13</th>\n",
       "      <td>-0.707857</td>\n",
       "      <td>-0.246940</td>\n",
       "      <td>1</td>\n",
       "    </tr>\n",
       "    <tr>\n",
       "      <th>17</th>\n",
       "      <td>-0.398063</td>\n",
       "      <td>-1.558855</td>\n",
       "      <td>1</td>\n",
       "    </tr>\n",
       "    <tr>\n",
       "      <th>27</th>\n",
       "      <td>-1.451362</td>\n",
       "      <td>-1.165281</td>\n",
       "      <td>1</td>\n",
       "    </tr>\n",
       "    <tr>\n",
       "      <th>31</th>\n",
       "      <td>-1.410056</td>\n",
       "      <td>-0.421862</td>\n",
       "      <td>1</td>\n",
       "    </tr>\n",
       "  </tbody>\n",
       "</table>\n",
       "</div>"
      ],
      "text/plain": [
       "      INCOME     SPEND  cluster\n",
       "5  -1.100262 -0.072018        1\n",
       "13 -0.707857 -0.246940        1\n",
       "17 -0.398063 -1.558855        1\n",
       "27 -1.451362 -1.165281        1\n",
       "31 -1.410056 -0.421862        1"
      ]
     },
     "execution_count": 22,
     "metadata": {},
     "output_type": "execute_result"
    }
   ],
   "source": [
    "ml1.head()"
   ]
  },
  {
   "cell_type": "code",
   "execution_count": 23,
   "id": "ad44ee4a",
   "metadata": {},
   "outputs": [
    {
     "data": {
      "text/plain": [
       "array([[ 0.10070512,  0.120396  ],\n",
       "       [-1.01805523, -1.00236328],\n",
       "       [ 0.66370889, -1.50951841],\n",
       "       [-0.64637809,  0.96937799],\n",
       "       [ 1.56528247,  0.36156508]])"
      ]
     },
     "execution_count": 23,
     "metadata": {},
     "output_type": "execute_result"
    }
   ],
   "source": [
    "#find the centroid value of each cluster,use inbuilt method cluster_centers_\n",
    "#which is define in Kmeans class\n",
    "km.cluster_centers_"
   ]
  },
  {
   "cell_type": "code",
   "execution_count": 24,
   "id": "582e4224",
   "metadata": {},
   "outputs": [
    {
     "data": {
      "image/png": "[encoded data removed]",
      "text/plain": [
       "<Figure size 432x288 with 1 Axes>"
      ]
     },
     "metadata": {
      "needs_background": "light"
     },
     "output_type": "display_data"
    }
   ],
   "source": [
    "#visualize \n",
    "#scatter plot\n",
    "plt.scatter(ml0[\"INCOME\"],ml0[\"SPEND\"],color=\"red\")\n",
    "plt.scatter(ml1[\"INCOME\"],ml1[\"SPEND\"],color=\"blue\")\n",
    "plt.scatter(ml2[\"INCOME\"],ml2[\"SPEND\"],color=\"green\")\n",
    "plt.scatter(ml3[\"INCOME\"],ml3[\"SPEND\"],color=\"pink\")\n",
    "plt.scatter(ml4[\"INCOME\"],ml4[\"SPEND\"],color=\"black\")\n",
    "#show centroid of all datapoint on graph\n",
    "plt.scatter(km.cluster_centers_[:,0],km.cluster_centers_[:,1],color=\"orange\",marker=\"*\",s=150)\n",
    "plt.xlabel(\"INCOME\")\n",
    "plt.ylabel(\"SPEND\")\n",
    "plt.show()"
   ]
  },
  {
   "cell_type": "code",
   "execution_count": null,
   "id": "e4a22052",
   "metadata": {},
   "outputs": [],
   "source": []
  },
  {
   "cell_type": "code",
   "execution_count": null,
   "id": "32abe3ca",
   "metadata": {},
   "outputs": [],
   "source": []
  }
 ],
 "metadata": {
  "kernelspec": {
   "display_name": "Python 3",
   "language": "python",
   "name": "python3"
  },
  "language_info": {
   "codemirror_mode": {
    "name": "ipython",
    "version": 3
   },
   "file_extension": ".py",
   "mimetype": "text/x-python",
   "name": "python",
   "nbconvert_exporter": "python",
   "pygments_lexer": "ipython3",
   "version": "3.8.8"
  }
 },
 "nbformat": 4,
 "nbformat_minor": 5
}
