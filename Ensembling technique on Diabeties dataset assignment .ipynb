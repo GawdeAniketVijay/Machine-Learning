{
 "cells": [
  {
   "cell_type": "code",
   "execution_count": 1,
   "id": "4f5d2533",
   "metadata": {},
   "outputs": [],
   "source": [
    "#  Perform Exploratory Data Anaylsis needed.\n",
    "#  Create Gradient Boosting Classification model\n",
    "#  Create Ada Boosting Classification model\n",
    "#  Create Extreme Gradient Boosting model"
   ]
  },
  {
   "cell_type": "code",
   "execution_count": 2,
   "id": "8726f5a0",
   "metadata": {},
   "outputs": [],
   "source": [
    "# First import basic libraries  \n",
    "import numpy as np\n",
    "import pandas as pd\n",
    "import seaborn as sb\n",
    "import matplotlib.pyplot as plt\n",
    "import warnings\n",
    "warnings.filterwarnings('ignore')"
   ]
  },
  {
   "cell_type": "code",
   "execution_count": 3,
   "id": "b3dc123f",
   "metadata": {},
   "outputs": [
    {
     "data": {
      "text/html": [
       "<div>\n",
       "<style scoped>\n",
       "    .dataframe tbody tr th:only-of-type {\n",
       "        vertical-align: middle;\n",
       "    }\n",
       "\n",
       "    .dataframe tbody tr th {\n",
       "        vertical-align: top;\n",
       "    }\n",
       "\n",
       "    .dataframe thead th {\n",
       "        text-align: right;\n",
       "    }\n",
       "</style>\n",
       "<table border=\"1\" class=\"dataframe\">\n",
       "  <thead>\n",
       "    <tr style=\"text-align: right;\">\n",
       "      <th></th>\n",
       "      <th>pregnant</th>\n",
       "      <th>glocose</th>\n",
       "      <th>bp</th>\n",
       "      <th>skin</th>\n",
       "      <th>insulin</th>\n",
       "      <th>bmi</th>\n",
       "      <th>predigree</th>\n",
       "      <th>age</th>\n",
       "      <th>target</th>\n",
       "    </tr>\n",
       "  </thead>\n",
       "  <tbody>\n",
       "    <tr>\n",
       "      <th>0</th>\n",
       "      <td>6</td>\n",
       "      <td>148</td>\n",
       "      <td>72</td>\n",
       "      <td>35</td>\n",
       "      <td>0</td>\n",
       "      <td>33.6</td>\n",
       "      <td>0.627</td>\n",
       "      <td>50</td>\n",
       "      <td>1</td>\n",
       "    </tr>\n",
       "    <tr>\n",
       "      <th>1</th>\n",
       "      <td>1</td>\n",
       "      <td>85</td>\n",
       "      <td>66</td>\n",
       "      <td>29</td>\n",
       "      <td>0</td>\n",
       "      <td>26.6</td>\n",
       "      <td>0.351</td>\n",
       "      <td>31</td>\n",
       "      <td>0</td>\n",
       "    </tr>\n",
       "    <tr>\n",
       "      <th>2</th>\n",
       "      <td>8</td>\n",
       "      <td>183</td>\n",
       "      <td>64</td>\n",
       "      <td>0</td>\n",
       "      <td>0</td>\n",
       "      <td>23.3</td>\n",
       "      <td>0.672</td>\n",
       "      <td>32</td>\n",
       "      <td>1</td>\n",
       "    </tr>\n",
       "    <tr>\n",
       "      <th>3</th>\n",
       "      <td>1</td>\n",
       "      <td>89</td>\n",
       "      <td>66</td>\n",
       "      <td>23</td>\n",
       "      <td>94</td>\n",
       "      <td>28.1</td>\n",
       "      <td>0.167</td>\n",
       "      <td>21</td>\n",
       "      <td>0</td>\n",
       "    </tr>\n",
       "    <tr>\n",
       "      <th>4</th>\n",
       "      <td>0</td>\n",
       "      <td>137</td>\n",
       "      <td>40</td>\n",
       "      <td>35</td>\n",
       "      <td>168</td>\n",
       "      <td>43.1</td>\n",
       "      <td>2.288</td>\n",
       "      <td>33</td>\n",
       "      <td>1</td>\n",
       "    </tr>\n",
       "  </tbody>\n",
       "</table>\n",
       "</div>"
      ],
      "text/plain": [
       "   pregnant  glocose  bp  skin  insulin   bmi  predigree  age  target\n",
       "0         6      148  72    35        0  33.6      0.627   50       1\n",
       "1         1       85  66    29        0  26.6      0.351   31       0\n",
       "2         8      183  64     0        0  23.3      0.672   32       1\n",
       "3         1       89  66    23       94  28.1      0.167   21       0\n",
       "4         0      137  40    35      168  43.1      2.288   33       1"
      ]
     },
     "execution_count": 3,
     "metadata": {},
     "output_type": "execute_result"
    }
   ],
   "source": [
    "#load dataset\n",
    "dt=pd.read_csv(\"diabeties.csv\")\n",
    "dt.head()"
   ]
  },
  {
   "cell_type": "code",
   "execution_count": 4,
   "id": "38fa9388",
   "metadata": {},
   "outputs": [
    {
     "data": {
      "text/plain": [
       "pregnant       int64\n",
       "glocose        int64\n",
       "bp             int64\n",
       "skin           int64\n",
       "insulin        int64\n",
       "bmi          float64\n",
       "predigree    float64\n",
       "age            int64\n",
       "target         int64\n",
       "dtype: object"
      ]
     },
     "execution_count": 4,
     "metadata": {},
     "output_type": "execute_result"
    }
   ],
   "source": [
    "#check dtypes\n",
    "dt.dtypes"
   ]
  },
  {
   "cell_type": "code",
   "execution_count": 5,
   "id": "3083a4df",
   "metadata": {},
   "outputs": [
    {
     "name": "stdout",
     "output_type": "stream",
     "text": [
      "<class 'pandas.core.frame.DataFrame'>\n",
      "RangeIndex: 768 entries, 0 to 767\n",
      "Data columns (total 9 columns):\n",
      " #   Column     Non-Null Count  Dtype  \n",
      "---  ------     --------------  -----  \n",
      " 0   pregnant   768 non-null    int64  \n",
      " 1   glocose    768 non-null    int64  \n",
      " 2   bp         768 non-null    int64  \n",
      " 3   skin       768 non-null    int64  \n",
      " 4   insulin    768 non-null    int64  \n",
      " 5   bmi        768 non-null    float64\n",
      " 6   predigree  768 non-null    float64\n",
      " 7   age        768 non-null    int64  \n",
      " 8   target     768 non-null    int64  \n",
      "dtypes: float64(2), int64(7)\n",
      "memory usage: 54.1 KB\n"
     ]
    }
   ],
   "source": [
    "#check info of dataset\n",
    "dt.info()"
   ]
  },
  {
   "cell_type": "code",
   "execution_count": 6,
   "id": "cdec28bc",
   "metadata": {},
   "outputs": [
    {
     "data": {
      "text/plain": [
       "pregnant     0\n",
       "glocose      0\n",
       "bp           0\n",
       "skin         0\n",
       "insulin      0\n",
       "bmi          0\n",
       "predigree    0\n",
       "age          0\n",
       "target       0\n",
       "dtype: int64"
      ]
     },
     "execution_count": 6,
     "metadata": {},
     "output_type": "execute_result"
    }
   ],
   "source": [
    "#checking null values\n",
    "dt.isnull().sum()"
   ]
  },
  {
   "cell_type": "code",
   "execution_count": 7,
   "id": "de41ea80",
   "metadata": {},
   "outputs": [
    {
     "data": {
      "image/png": "[encoded data removed]",
      "text/plain": [
       "<Figure size 432x288 with 2 Axes>"
      ]
     },
     "metadata": {
      "needs_background": "light"
     },
     "output_type": "display_data"
    }
   ],
   "source": [
    "#checking null vlaues in heatmap graph\n",
    "sb.heatmap(dt.isnull())\n",
    "plt.show()"
   ]
  },
  {
   "cell_type": "code",
   "execution_count": 8,
   "id": "dfafbe83",
   "metadata": {},
   "outputs": [
    {
     "data": {
      "text/plain": [
       "(768, 9)"
      ]
     },
     "execution_count": 8,
     "metadata": {},
     "output_type": "execute_result"
    }
   ],
   "source": [
    "#check total column and rows\n",
    "dt.shape"
   ]
  },
  {
   "cell_type": "code",
   "execution_count": 9,
   "id": "78f399c6",
   "metadata": {},
   "outputs": [],
   "source": [
    "X=dt.drop(\"target\",axis=1) #select input and drop output \n",
    "Y=dt[\"target\"] #select output"
   ]
  },
  {
   "cell_type": "code",
   "execution_count": 10,
   "id": "18492dba",
   "metadata": {},
   "outputs": [],
   "source": [
    "from sklearn.model_selection import train_test_split"
   ]
  },
  {
   "cell_type": "code",
   "execution_count": 11,
   "id": "8752ad68",
   "metadata": {},
   "outputs": [],
   "source": [
    "#tran test split 70% 30%\n",
    "X_train,X_test,Y_train,Y_test=train_test_split(X,Y,test_size=0.3,random_state=1)"
   ]
  },
  {
   "cell_type": "code",
   "execution_count": 12,
   "id": "12cd5ea8",
   "metadata": {},
   "outputs": [],
   "source": [
    "#create function\n",
    "def create_model(model):\n",
    "    model.fit(X_train,Y_train) #train the model\n",
    "    Y_pred=model.predict(X_test) #test the model\n",
    "    print(classification_report(Y_test,Y_pred)) \n",
    "    print(\"CONFUSION MATRIX\")\n",
    "    print(confusion_matrix(Y_test,Y_pred))\n",
    "    return model"
   ]
  },
  {
   "cell_type": "code",
   "execution_count": 40,
   "id": "3c7156e1",
   "metadata": {},
   "outputs": [],
   "source": [
    "from sklearn.linear_model import LogisticRegression\n",
    "from sklearn.metrics import classification_report\n",
    "from sklearn.metrics import confusion_matrix\n",
    "from sklearn.tree import DecisionTreeClassifier"
   ]
  },
  {
   "cell_type": "code",
   "execution_count": 41,
   "id": "432ec112",
   "metadata": {},
   "outputs": [],
   "source": [
    "#craete a object of LogisticRegression\n",
    "lr=LogisticRegression()"
   ]
  },
  {
   "cell_type": "code",
   "execution_count": 42,
   "id": "68cbc609",
   "metadata": {},
   "outputs": [],
   "source": [
    "#create a class of decisiontreeclassifier class\n",
    "dc1=DecisionTreeClassifier() #it will take gini index"
   ]
  },
  {
   "cell_type": "code",
   "execution_count": 43,
   "id": "b1b8d442",
   "metadata": {},
   "outputs": [],
   "source": [
    "dc2=DecisionTreeClassifier(criterion=\"entropy\") #we have to mention here entropy otherwise it will take gini index"
   ]
  },
  {
   "cell_type": "code",
   "execution_count": 44,
   "id": "28280a4d",
   "metadata": {},
   "outputs": [],
   "source": [
    "#create a model_list and then concate all above class into them\n",
    "model_list=[(\"logistic\",lr),(\"DecisionTree_Gini\",dc1),(\"DecisionTree_Entropy\",dc2)]"
   ]
  },
  {
   "cell_type": "markdown",
   "id": "b8412504",
   "metadata": {},
   "source": [
    "# Naive Aggregation"
   ]
  },
  {
   "cell_type": "code",
   "execution_count": 45,
   "id": "da83ab11",
   "metadata": {},
   "outputs": [],
   "source": [
    "#then we need\n",
    "#Naive Aggregation\n",
    "from sklearn.ensemble import VotingClassifier"
   ]
  },
  {
   "cell_type": "code",
   "execution_count": 46,
   "id": "34d3e592",
   "metadata": {},
   "outputs": [],
   "source": [
    "#create object of VotingClassifier \n",
    "vc=VotingClassifier(estimators=model_list) #checking with hard "
   ]
  },
  {
   "cell_type": "code",
   "execution_count": 47,
   "id": "3d8b5830",
   "metadata": {},
   "outputs": [
    {
     "name": "stdout",
     "output_type": "stream",
     "text": [
      "              precision    recall  f1-score   support\n",
      "\n",
      "           0       0.76      0.84      0.79       146\n",
      "           1       0.66      0.54      0.59        85\n",
      "\n",
      "    accuracy                           0.73       231\n",
      "   macro avg       0.71      0.69      0.69       231\n",
      "weighted avg       0.72      0.73      0.72       231\n",
      "\n",
      "CONFUSION MATRIX\n",
      "[[122  24]\n",
      " [ 39  46]]\n"
     ]
    }
   ],
   "source": [
    "#Then call the function\n",
    "vc=create_model(vc)"
   ]
  },
  {
   "cell_type": "code",
   "execution_count": 48,
   "id": "0e22ffe5",
   "metadata": {},
   "outputs": [
    {
     "name": "stdout",
     "output_type": "stream",
     "text": [
      "              precision    recall  f1-score   support\n",
      "\n",
      "           0       0.77      0.84      0.80       146\n",
      "           1       0.68      0.56      0.62        85\n",
      "\n",
      "    accuracy                           0.74       231\n",
      "   macro avg       0.72      0.70      0.71       231\n",
      "weighted avg       0.73      0.74      0.73       231\n",
      "\n",
      "CONFUSION MATRIX\n",
      "[[123  23]\n",
      " [ 37  48]]\n"
     ]
    }
   ],
   "source": [
    "vc1=VotingClassifier(estimators=model_list,voting=\"soft\") #mention there is soft otherwise it wiil take hard\n",
    "#call the functoin\n",
    "vc1=create_model(vc1)"
   ]
  },
  {
   "cell_type": "markdown",
   "id": "5947669d",
   "metadata": {},
   "source": [
    "# Boosting Technique"
   ]
  },
  {
   "cell_type": "code",
   "execution_count": 49,
   "id": "0ca154b6",
   "metadata": {},
   "outputs": [],
   "source": [
    "#Boosting Technique\n",
    "#1.Baaging method\n",
    "from sklearn.ensemble import BaggingClassifier"
   ]
  },
  {
   "cell_type": "code",
   "execution_count": 97,
   "id": "10192c5d",
   "metadata": {},
   "outputs": [],
   "source": [
    "bc = BaggingClassifier(LogisticRegression(),n_estimators=10,max_samples=400,random_state=1)"
   ]
  },
  {
   "cell_type": "code",
   "execution_count": 98,
   "id": "9e714bef",
   "metadata": {},
   "outputs": [
    {
     "name": "stdout",
     "output_type": "stream",
     "text": [
      "              precision    recall  f1-score   support\n",
      "\n",
      "           0       0.79      0.90      0.84       146\n",
      "           1       0.78      0.58      0.66        85\n",
      "\n",
      "    accuracy                           0.78       231\n",
      "   macro avg       0.78      0.74      0.75       231\n",
      "weighted avg       0.78      0.78      0.78       231\n",
      "\n",
      "CONFUSION MATRIX\n",
      "[[132  14]\n",
      " [ 36  49]]\n"
     ]
    }
   ],
   "source": [
    "#call the function\n",
    "bc = create_model(bc)"
   ]
  },
  {
   "cell_type": "markdown",
   "id": "6e701c5e",
   "metadata": {},
   "source": [
    "# In above When we use Pasting and Random Forest Tree the recall of 1 is decreasing that's why we use only  BaggingClassifier"
   ]
  },
  {
   "cell_type": "markdown",
   "id": "4071d71d",
   "metadata": {},
   "source": [
    "# Boosting Technique\n",
    "        a. ADA Boost(Adaptor Boosting)"
   ]
  },
  {
   "cell_type": "code",
   "execution_count": 70,
   "id": "e96cdd6a",
   "metadata": {},
   "outputs": [],
   "source": [
    "#ADA Boost(Adaptor Boosting)\n",
    "from sklearn.ensemble import AdaBoostClassifier"
   ]
  },
  {
   "cell_type": "code",
   "execution_count": 99,
   "id": "02677fe2",
   "metadata": {},
   "outputs": [],
   "source": [
    "ada=AdaBoostClassifier(n_estimators=75)"
   ]
  },
  {
   "cell_type": "code",
   "execution_count": 100,
   "id": "cf73c8cb",
   "metadata": {},
   "outputs": [
    {
     "name": "stdout",
     "output_type": "stream",
     "text": [
      "              precision    recall  f1-score   support\n",
      "\n",
      "           0       0.79      0.88      0.83       146\n",
      "           1       0.75      0.59      0.66        85\n",
      "\n",
      "    accuracy                           0.77       231\n",
      "   macro avg       0.77      0.74      0.75       231\n",
      "weighted avg       0.77      0.77      0.77       231\n",
      "\n",
      "CONFUSION MATRIX\n",
      "[[129  17]\n",
      " [ 35  50]]\n"
     ]
    }
   ],
   "source": [
    "ada=create_model(ada)"
   ]
  },
  {
   "cell_type": "markdown",
   "id": "e687334c",
   "metadata": {},
   "source": [
    "# b.Gradient Boosting"
   ]
  },
  {
   "cell_type": "code",
   "execution_count": 86,
   "id": "5d11cb1c",
   "metadata": {},
   "outputs": [],
   "source": [
    "from sklearn.ensemble import GradientBoostingClassifier"
   ]
  },
  {
   "cell_type": "code",
   "execution_count": 101,
   "id": "ef38f8f7",
   "metadata": {},
   "outputs": [],
   "source": [
    "gbc=GradientBoostingClassifier(n_estimators=85)"
   ]
  },
  {
   "cell_type": "code",
   "execution_count": 102,
   "id": "61366959",
   "metadata": {},
   "outputs": [
    {
     "name": "stdout",
     "output_type": "stream",
     "text": [
      "              precision    recall  f1-score   support\n",
      "\n",
      "           0       0.81      0.89      0.85       146\n",
      "           1       0.77      0.64      0.70        85\n",
      "\n",
      "    accuracy                           0.80       231\n",
      "   macro avg       0.79      0.76      0.77       231\n",
      "weighted avg       0.79      0.80      0.79       231\n",
      "\n",
      "CONFUSION MATRIX\n",
      "[[130  16]\n",
      " [ 31  54]]\n"
     ]
    }
   ],
   "source": [
    "gbc=create_model(gbc)"
   ]
  },
  {
   "cell_type": "markdown",
   "id": "c1ef2b9e",
   "metadata": {},
   "source": [
    "# c. Extreme Gradient Boosting (XG Boost)"
   ]
  },
  {
   "cell_type": "code",
   "execution_count": 87,
   "id": "67b519ea",
   "metadata": {},
   "outputs": [],
   "source": [
    "#before performing Extreme Gradient Boosting (XG Boost) we need to install xgboost"
   ]
  },
  {
   "cell_type": "code",
   "execution_count": 89,
   "id": "3cd2b99b",
   "metadata": {},
   "outputs": [],
   "source": [
    "#!pip install xgboost"
   ]
  },
  {
   "cell_type": "code",
   "execution_count": 91,
   "id": "b8cf3807",
   "metadata": {},
   "outputs": [],
   "source": [
    "from xgboost import XGBClassifier"
   ]
  },
  {
   "cell_type": "code",
   "execution_count": 113,
   "id": "daf3034b",
   "metadata": {},
   "outputs": [],
   "source": [
    "xgbc=XGBClassifier(n_estimators=60,reg_alpha=1)"
   ]
  },
  {
   "cell_type": "code",
   "execution_count": 114,
   "id": "b05273da",
   "metadata": {},
   "outputs": [
    {
     "name": "stdout",
     "output_type": "stream",
     "text": [
      "[21:42:25] WARNING: C:/Users/Administrator/workspace/xgboost-win64_release_1.5.1/src/learner.cc:1115: Starting in XGBoost 1.3.0, the default evaluation metric used with the objective 'binary:logistic' was changed from 'error' to 'logloss'. Explicitly set eval_metric if you'd like to restore the old behavior.\n",
      "              precision    recall  f1-score   support\n",
      "\n",
      "           0       0.81      0.87      0.84       146\n",
      "           1       0.74      0.65      0.69        85\n",
      "\n",
      "    accuracy                           0.79       231\n",
      "   macro avg       0.78      0.76      0.77       231\n",
      "weighted avg       0.78      0.79      0.78       231\n",
      "\n",
      "CONFUSION MATRIX\n",
      "[[127  19]\n",
      " [ 30  55]]\n"
     ]
    }
   ],
   "source": [
    "xgbc=create_model(xgbc)"
   ]
  },
  {
   "cell_type": "code",
   "execution_count": null,
   "id": "99c4297b",
   "metadata": {},
   "outputs": [],
   "source": [
    "#In above Extreme Gradient Boosting (XG Boost) is giving best recall value as compare to other."
   ]
  }
 ],
 "metadata": {
  "kernelspec": {
   "display_name": "Python 3",
   "language": "python",
   "name": "python3"
  },
  "language_info": {
   "codemirror_mode": {
    "name": "ipython",
    "version": 3
   },
   "file_extension": ".py",
   "mimetype": "text/x-python",
   "name": "python",
   "nbconvert_exporter": "python",
   "pygments_lexer": "ipython3",
   "version": "3.8.8"
  }
 },
 "nbformat": 4,
 "nbformat_minor": 5
}
