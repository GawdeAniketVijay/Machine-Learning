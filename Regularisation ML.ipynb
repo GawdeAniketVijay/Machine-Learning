{
 "cells": [
  {
   "cell_type": "markdown",
   "id": "8ecdbc3a",
   "metadata": {},
   "source": [
    "# 14-12-2021\n",
    "Regularisation"
   ]
  },
  {
   "cell_type": "code",
   "execution_count": 1,
   "id": "d584af2f",
   "metadata": {},
   "outputs": [],
   "source": [
    "#Regularisation:-To remove the overfitting from model we used regularisation."
   ]
  },
  {
   "cell_type": "code",
   "execution_count": 2,
   "id": "2750befa",
   "metadata": {},
   "outputs": [],
   "source": [
    "import numpy as np\n",
    "import pandas as pd\n",
    "import seaborn as sb\n",
    "import matplotlib.pyplot as plt\n",
    "import warnings\n",
    "warnings.filterwarnings('ignore')"
   ]
  },
  {
   "cell_type": "code",
   "execution_count": 3,
   "id": "f8c2b76b",
   "metadata": {},
   "outputs": [
    {
     "data": {
      "text/html": [
       "<div>\n",
       "<style scoped>\n",
       "    .dataframe tbody tr th:only-of-type {\n",
       "        vertical-align: middle;\n",
       "    }\n",
       "\n",
       "    .dataframe tbody tr th {\n",
       "        vertical-align: top;\n",
       "    }\n",
       "\n",
       "    .dataframe thead th {\n",
       "        text-align: right;\n",
       "    }\n",
       "</style>\n",
       "<table border=\"1\" class=\"dataframe\">\n",
       "  <thead>\n",
       "    <tr style=\"text-align: right;\">\n",
       "      <th></th>\n",
       "      <th>symboling</th>\n",
       "      <th>normalized-losses</th>\n",
       "      <th>make</th>\n",
       "      <th>fuel-type</th>\n",
       "      <th>body-style</th>\n",
       "      <th>drive-wheels</th>\n",
       "      <th>engine-location</th>\n",
       "      <th>width</th>\n",
       "      <th>height</th>\n",
       "      <th>engine-type</th>\n",
       "      <th>engine-size</th>\n",
       "      <th>horsepower</th>\n",
       "      <th>city-mpg</th>\n",
       "      <th>highway-mpg</th>\n",
       "      <th>price</th>\n",
       "    </tr>\n",
       "  </thead>\n",
       "  <tbody>\n",
       "    <tr>\n",
       "      <th>0</th>\n",
       "      <td>3</td>\n",
       "      <td>?</td>\n",
       "      <td>alfa-romero</td>\n",
       "      <td>gas</td>\n",
       "      <td>convertible</td>\n",
       "      <td>rwd</td>\n",
       "      <td>front</td>\n",
       "      <td>64.1</td>\n",
       "      <td>48.8</td>\n",
       "      <td>dohc</td>\n",
       "      <td>130</td>\n",
       "      <td>111</td>\n",
       "      <td>21</td>\n",
       "      <td>27</td>\n",
       "      <td>13495</td>\n",
       "    </tr>\n",
       "    <tr>\n",
       "      <th>1</th>\n",
       "      <td>3</td>\n",
       "      <td>?</td>\n",
       "      <td>alfa-romero</td>\n",
       "      <td>gas</td>\n",
       "      <td>convertible</td>\n",
       "      <td>rwd</td>\n",
       "      <td>front</td>\n",
       "      <td>64.1</td>\n",
       "      <td>48.8</td>\n",
       "      <td>dohc</td>\n",
       "      <td>130</td>\n",
       "      <td>111</td>\n",
       "      <td>21</td>\n",
       "      <td>27</td>\n",
       "      <td>16500</td>\n",
       "    </tr>\n",
       "    <tr>\n",
       "      <th>2</th>\n",
       "      <td>1</td>\n",
       "      <td>?</td>\n",
       "      <td>alfa-romero</td>\n",
       "      <td>gas</td>\n",
       "      <td>hatchback</td>\n",
       "      <td>rwd</td>\n",
       "      <td>front</td>\n",
       "      <td>65.5</td>\n",
       "      <td>52.4</td>\n",
       "      <td>ohcv</td>\n",
       "      <td>152</td>\n",
       "      <td>154</td>\n",
       "      <td>19</td>\n",
       "      <td>26</td>\n",
       "      <td>16500</td>\n",
       "    </tr>\n",
       "    <tr>\n",
       "      <th>3</th>\n",
       "      <td>2</td>\n",
       "      <td>164</td>\n",
       "      <td>audi</td>\n",
       "      <td>gas</td>\n",
       "      <td>sedan</td>\n",
       "      <td>fwd</td>\n",
       "      <td>front</td>\n",
       "      <td>66.2</td>\n",
       "      <td>54.3</td>\n",
       "      <td>ohc</td>\n",
       "      <td>109</td>\n",
       "      <td>102</td>\n",
       "      <td>24</td>\n",
       "      <td>30</td>\n",
       "      <td>13950</td>\n",
       "    </tr>\n",
       "    <tr>\n",
       "      <th>4</th>\n",
       "      <td>2</td>\n",
       "      <td>164</td>\n",
       "      <td>audi</td>\n",
       "      <td>gas</td>\n",
       "      <td>sedan</td>\n",
       "      <td>4wd</td>\n",
       "      <td>front</td>\n",
       "      <td>66.4</td>\n",
       "      <td>54.3</td>\n",
       "      <td>ohc</td>\n",
       "      <td>136</td>\n",
       "      <td>115</td>\n",
       "      <td>18</td>\n",
       "      <td>22</td>\n",
       "      <td>17450</td>\n",
       "    </tr>\n",
       "  </tbody>\n",
       "</table>\n",
       "</div>"
      ],
      "text/plain": [
       "   symboling normalized-losses         make fuel-type   body-style  \\\n",
       "0          3                 ?  alfa-romero       gas  convertible   \n",
       "1          3                 ?  alfa-romero       gas  convertible   \n",
       "2          1                 ?  alfa-romero       gas    hatchback   \n",
       "3          2               164         audi       gas        sedan   \n",
       "4          2               164         audi       gas        sedan   \n",
       "\n",
       "  drive-wheels engine-location  width  height engine-type  engine-size  \\\n",
       "0          rwd           front   64.1    48.8        dohc          130   \n",
       "1          rwd           front   64.1    48.8        dohc          130   \n",
       "2          rwd           front   65.5    52.4        ohcv          152   \n",
       "3          fwd           front   66.2    54.3         ohc          109   \n",
       "4          4wd           front   66.4    54.3         ohc          136   \n",
       "\n",
       "  horsepower  city-mpg  highway-mpg  price  \n",
       "0        111        21           27  13495  \n",
       "1        111        21           27  16500  \n",
       "2        154        19           26  16500  \n",
       "3        102        24           30  13950  \n",
       "4        115        18           22  17450  "
      ]
     },
     "execution_count": 3,
     "metadata": {},
     "output_type": "execute_result"
    }
   ],
   "source": [
    "df=pd.read_csv(\"Automobile_data.csv\")\n",
    "df.head()"
   ]
  },
  {
   "cell_type": "code",
   "execution_count": 4,
   "id": "d440d128",
   "metadata": {},
   "outputs": [],
   "source": [
    "#replace ? with null values in \"normalized-losses\" column permanently\n",
    "df[\"normalized-losses\"].replace(\"?\",np.nan,inplace=True)"
   ]
  },
  {
   "cell_type": "code",
   "execution_count": 5,
   "id": "b2975b35",
   "metadata": {},
   "outputs": [],
   "source": [
    "#change the datatype of df[\"normalized-losses\"] column from object to float\n",
    "#permanently\n",
    "df[\"normalized-losses\"]=df[\"normalized-losses\"].astype(\"float\")"
   ]
  },
  {
   "cell_type": "code",
   "execution_count": 6,
   "id": "24daf440",
   "metadata": {},
   "outputs": [
    {
     "name": "stdout",
     "output_type": "stream",
     "text": [
      "Mean of normalized-losses :  122.0\n"
     ]
    }
   ],
   "source": [
    "#fill null rows of normalized-losses column with mean of normalized-losses \n",
    "#columns permanently\n",
    "m=df[\"normalized-losses\"].mean()\n",
    "print(\"Mean of normalized-losses : \",m)\n",
    "df[\"normalized-losses\"].fillna(m,inplace=True)"
   ]
  },
  {
   "cell_type": "code",
   "execution_count": 7,
   "id": "452c2532",
   "metadata": {},
   "outputs": [],
   "source": [
    "#replace ? with null values in \"horsepower\" column permanently\n",
    "df[\"horsepower\"].replace(\"?\",np.nan,inplace=True)"
   ]
  },
  {
   "cell_type": "code",
   "execution_count": 8,
   "id": "9dfcb131",
   "metadata": {},
   "outputs": [],
   "source": [
    "#change the datatype of df[\"horsepower\"] column from object to float\n",
    "#permanently\n",
    "df[\"horsepower\"]=df[\"horsepower\"].astype(\"float\")"
   ]
  },
  {
   "cell_type": "code",
   "execution_count": 9,
   "id": "7feb5f31",
   "metadata": {},
   "outputs": [
    {
     "name": "stdout",
     "output_type": "stream",
     "text": [
      "Mean of horsepower :  104.25615763546799\n"
     ]
    }
   ],
   "source": [
    "#fill null rows of horsepower column with mean of horsepower\n",
    "#columns permanently\n",
    "m=df[\"horsepower\"].mean()\n",
    "print(\"Mean of horsepower : \",m)\n",
    "df[\"horsepower\"].fillna(m,inplace=True)"
   ]
  },
  {
   "cell_type": "code",
   "execution_count": 10,
   "id": "01732c39",
   "metadata": {},
   "outputs": [
    {
     "data": {
      "text/html": [
       "<div>\n",
       "<style scoped>\n",
       "    .dataframe tbody tr th:only-of-type {\n",
       "        vertical-align: middle;\n",
       "    }\n",
       "\n",
       "    .dataframe tbody tr th {\n",
       "        vertical-align: top;\n",
       "    }\n",
       "\n",
       "    .dataframe thead th {\n",
       "        text-align: right;\n",
       "    }\n",
       "</style>\n",
       "<table border=\"1\" class=\"dataframe\">\n",
       "  <thead>\n",
       "    <tr style=\"text-align: right;\">\n",
       "      <th></th>\n",
       "      <th>make</th>\n",
       "      <th>fuel-type</th>\n",
       "      <th>body-style</th>\n",
       "      <th>drive-wheels</th>\n",
       "      <th>engine-location</th>\n",
       "      <th>engine-type</th>\n",
       "    </tr>\n",
       "  </thead>\n",
       "  <tbody>\n",
       "    <tr>\n",
       "      <th>0</th>\n",
       "      <td>alfa-romero</td>\n",
       "      <td>gas</td>\n",
       "      <td>convertible</td>\n",
       "      <td>rwd</td>\n",
       "      <td>front</td>\n",
       "      <td>dohc</td>\n",
       "    </tr>\n",
       "    <tr>\n",
       "      <th>1</th>\n",
       "      <td>alfa-romero</td>\n",
       "      <td>gas</td>\n",
       "      <td>convertible</td>\n",
       "      <td>rwd</td>\n",
       "      <td>front</td>\n",
       "      <td>dohc</td>\n",
       "    </tr>\n",
       "    <tr>\n",
       "      <th>2</th>\n",
       "      <td>alfa-romero</td>\n",
       "      <td>gas</td>\n",
       "      <td>hatchback</td>\n",
       "      <td>rwd</td>\n",
       "      <td>front</td>\n",
       "      <td>ohcv</td>\n",
       "    </tr>\n",
       "    <tr>\n",
       "      <th>3</th>\n",
       "      <td>audi</td>\n",
       "      <td>gas</td>\n",
       "      <td>sedan</td>\n",
       "      <td>fwd</td>\n",
       "      <td>front</td>\n",
       "      <td>ohc</td>\n",
       "    </tr>\n",
       "    <tr>\n",
       "      <th>4</th>\n",
       "      <td>audi</td>\n",
       "      <td>gas</td>\n",
       "      <td>sedan</td>\n",
       "      <td>4wd</td>\n",
       "      <td>front</td>\n",
       "      <td>ohc</td>\n",
       "    </tr>\n",
       "  </tbody>\n",
       "</table>\n",
       "</div>"
      ],
      "text/plain": [
       "          make fuel-type   body-style drive-wheels engine-location engine-type\n",
       "0  alfa-romero       gas  convertible          rwd           front        dohc\n",
       "1  alfa-romero       gas  convertible          rwd           front        dohc\n",
       "2  alfa-romero       gas    hatchback          rwd           front        ohcv\n",
       "3         audi       gas        sedan          fwd           front         ohc\n",
       "4         audi       gas        sedan          4wd           front         ohc"
      ]
     },
     "execution_count": 10,
     "metadata": {},
     "output_type": "execute_result"
    }
   ],
   "source": [
    "#separate numerical type column and object type column and store in new dataset\n",
    "df_num=df.select_dtypes([\"int64\",\"float64\"])#hold to int and float type data \n",
    "df_cat=df.select_dtypes(object)#hold object type data\n",
    "df_cat.head()"
   ]
  },
  {
   "cell_type": "code",
   "execution_count": 11,
   "id": "a778cfe6",
   "metadata": {},
   "outputs": [],
   "source": [
    "#change the object type data into numerical type then use LabelEncoder class\n",
    "from sklearn.preprocessing import LabelEncoder"
   ]
  },
  {
   "cell_type": "code",
   "execution_count": 12,
   "id": "e657d286",
   "metadata": {},
   "outputs": [],
   "source": [
    "for col in df_cat :\n",
    "    le=LabelEncoder() #create the object of LabelEncoder class\n",
    "    df_cat[col]=le.fit_transform(df_cat[col])"
   ]
  },
  {
   "cell_type": "code",
   "execution_count": 13,
   "id": "a95e9808",
   "metadata": {},
   "outputs": [
    {
     "data": {
      "text/html": [
       "<div>\n",
       "<style scoped>\n",
       "    .dataframe tbody tr th:only-of-type {\n",
       "        vertical-align: middle;\n",
       "    }\n",
       "\n",
       "    .dataframe tbody tr th {\n",
       "        vertical-align: top;\n",
       "    }\n",
       "\n",
       "    .dataframe thead th {\n",
       "        text-align: right;\n",
       "    }\n",
       "</style>\n",
       "<table border=\"1\" class=\"dataframe\">\n",
       "  <thead>\n",
       "    <tr style=\"text-align: right;\">\n",
       "      <th></th>\n",
       "      <th>make</th>\n",
       "      <th>fuel-type</th>\n",
       "      <th>body-style</th>\n",
       "      <th>drive-wheels</th>\n",
       "      <th>engine-location</th>\n",
       "      <th>engine-type</th>\n",
       "    </tr>\n",
       "  </thead>\n",
       "  <tbody>\n",
       "    <tr>\n",
       "      <th>0</th>\n",
       "      <td>0</td>\n",
       "      <td>1</td>\n",
       "      <td>0</td>\n",
       "      <td>2</td>\n",
       "      <td>0</td>\n",
       "      <td>0</td>\n",
       "    </tr>\n",
       "    <tr>\n",
       "      <th>1</th>\n",
       "      <td>0</td>\n",
       "      <td>1</td>\n",
       "      <td>0</td>\n",
       "      <td>2</td>\n",
       "      <td>0</td>\n",
       "      <td>0</td>\n",
       "    </tr>\n",
       "    <tr>\n",
       "      <th>2</th>\n",
       "      <td>0</td>\n",
       "      <td>1</td>\n",
       "      <td>2</td>\n",
       "      <td>2</td>\n",
       "      <td>0</td>\n",
       "      <td>5</td>\n",
       "    </tr>\n",
       "    <tr>\n",
       "      <th>3</th>\n",
       "      <td>1</td>\n",
       "      <td>1</td>\n",
       "      <td>3</td>\n",
       "      <td>1</td>\n",
       "      <td>0</td>\n",
       "      <td>3</td>\n",
       "    </tr>\n",
       "    <tr>\n",
       "      <th>4</th>\n",
       "      <td>1</td>\n",
       "      <td>1</td>\n",
       "      <td>3</td>\n",
       "      <td>0</td>\n",
       "      <td>0</td>\n",
       "      <td>3</td>\n",
       "    </tr>\n",
       "  </tbody>\n",
       "</table>\n",
       "</div>"
      ],
      "text/plain": [
       "   make  fuel-type  body-style  drive-wheels  engine-location  engine-type\n",
       "0     0          1           0             2                0            0\n",
       "1     0          1           0             2                0            0\n",
       "2     0          1           2             2                0            5\n",
       "3     1          1           3             1                0            3\n",
       "4     1          1           3             0                0            3"
      ]
     },
     "execution_count": 13,
     "metadata": {},
     "output_type": "execute_result"
    }
   ],
   "source": [
    "df_cat.head()"
   ]
  },
  {
   "cell_type": "code",
   "execution_count": 14,
   "id": "d3461829",
   "metadata": {},
   "outputs": [
    {
     "data": {
      "text/html": [
       "<div>\n",
       "<style scoped>\n",
       "    .dataframe tbody tr th:only-of-type {\n",
       "        vertical-align: middle;\n",
       "    }\n",
       "\n",
       "    .dataframe tbody tr th {\n",
       "        vertical-align: top;\n",
       "    }\n",
       "\n",
       "    .dataframe thead th {\n",
       "        text-align: right;\n",
       "    }\n",
       "</style>\n",
       "<table border=\"1\" class=\"dataframe\">\n",
       "  <thead>\n",
       "    <tr style=\"text-align: right;\">\n",
       "      <th></th>\n",
       "      <th>symboling</th>\n",
       "      <th>normalized-losses</th>\n",
       "      <th>width</th>\n",
       "      <th>height</th>\n",
       "      <th>engine-size</th>\n",
       "      <th>horsepower</th>\n",
       "      <th>city-mpg</th>\n",
       "      <th>highway-mpg</th>\n",
       "      <th>price</th>\n",
       "      <th>make</th>\n",
       "      <th>fuel-type</th>\n",
       "      <th>body-style</th>\n",
       "      <th>drive-wheels</th>\n",
       "      <th>engine-location</th>\n",
       "      <th>engine-type</th>\n",
       "    </tr>\n",
       "  </thead>\n",
       "  <tbody>\n",
       "    <tr>\n",
       "      <th>0</th>\n",
       "      <td>3</td>\n",
       "      <td>122.0</td>\n",
       "      <td>64.1</td>\n",
       "      <td>48.8</td>\n",
       "      <td>130</td>\n",
       "      <td>111.0</td>\n",
       "      <td>21</td>\n",
       "      <td>27</td>\n",
       "      <td>13495</td>\n",
       "      <td>0</td>\n",
       "      <td>1</td>\n",
       "      <td>0</td>\n",
       "      <td>2</td>\n",
       "      <td>0</td>\n",
       "      <td>0</td>\n",
       "    </tr>\n",
       "    <tr>\n",
       "      <th>1</th>\n",
       "      <td>3</td>\n",
       "      <td>122.0</td>\n",
       "      <td>64.1</td>\n",
       "      <td>48.8</td>\n",
       "      <td>130</td>\n",
       "      <td>111.0</td>\n",
       "      <td>21</td>\n",
       "      <td>27</td>\n",
       "      <td>16500</td>\n",
       "      <td>0</td>\n",
       "      <td>1</td>\n",
       "      <td>0</td>\n",
       "      <td>2</td>\n",
       "      <td>0</td>\n",
       "      <td>0</td>\n",
       "    </tr>\n",
       "    <tr>\n",
       "      <th>2</th>\n",
       "      <td>1</td>\n",
       "      <td>122.0</td>\n",
       "      <td>65.5</td>\n",
       "      <td>52.4</td>\n",
       "      <td>152</td>\n",
       "      <td>154.0</td>\n",
       "      <td>19</td>\n",
       "      <td>26</td>\n",
       "      <td>16500</td>\n",
       "      <td>0</td>\n",
       "      <td>1</td>\n",
       "      <td>2</td>\n",
       "      <td>2</td>\n",
       "      <td>0</td>\n",
       "      <td>5</td>\n",
       "    </tr>\n",
       "    <tr>\n",
       "      <th>3</th>\n",
       "      <td>2</td>\n",
       "      <td>164.0</td>\n",
       "      <td>66.2</td>\n",
       "      <td>54.3</td>\n",
       "      <td>109</td>\n",
       "      <td>102.0</td>\n",
       "      <td>24</td>\n",
       "      <td>30</td>\n",
       "      <td>13950</td>\n",
       "      <td>1</td>\n",
       "      <td>1</td>\n",
       "      <td>3</td>\n",
       "      <td>1</td>\n",
       "      <td>0</td>\n",
       "      <td>3</td>\n",
       "    </tr>\n",
       "    <tr>\n",
       "      <th>4</th>\n",
       "      <td>2</td>\n",
       "      <td>164.0</td>\n",
       "      <td>66.4</td>\n",
       "      <td>54.3</td>\n",
       "      <td>136</td>\n",
       "      <td>115.0</td>\n",
       "      <td>18</td>\n",
       "      <td>22</td>\n",
       "      <td>17450</td>\n",
       "      <td>1</td>\n",
       "      <td>1</td>\n",
       "      <td>3</td>\n",
       "      <td>0</td>\n",
       "      <td>0</td>\n",
       "      <td>3</td>\n",
       "    </tr>\n",
       "  </tbody>\n",
       "</table>\n",
       "</div>"
      ],
      "text/plain": [
       "   symboling  normalized-losses  width  height  engine-size  horsepower  \\\n",
       "0          3              122.0   64.1    48.8          130       111.0   \n",
       "1          3              122.0   64.1    48.8          130       111.0   \n",
       "2          1              122.0   65.5    52.4          152       154.0   \n",
       "3          2              164.0   66.2    54.3          109       102.0   \n",
       "4          2              164.0   66.4    54.3          136       115.0   \n",
       "\n",
       "   city-mpg  highway-mpg  price  make  fuel-type  body-style  drive-wheels  \\\n",
       "0        21           27  13495     0          1           0             2   \n",
       "1        21           27  16500     0          1           0             2   \n",
       "2        19           26  16500     0          1           2             2   \n",
       "3        24           30  13950     1          1           3             1   \n",
       "4        18           22  17450     1          1           3             0   \n",
       "\n",
       "   engine-location  engine-type  \n",
       "0                0            0  \n",
       "1                0            0  \n",
       "2                0            5  \n",
       "3                0            3  \n",
       "4                0            3  "
      ]
     },
     "execution_count": 14,
     "metadata": {},
     "output_type": "execute_result"
    }
   ],
   "source": [
    "#concatenation of both dataset df_num and df_cat and hold new dataset df_new\n",
    "df_new=pd.concat([df_num,df_cat],axis=1) #axis=1 column wise\n",
    "df_new.head()"
   ]
  },
  {
   "cell_type": "code",
   "execution_count": 15,
   "id": "5850c3f4",
   "metadata": {},
   "outputs": [
    {
     "data": {
      "text/plain": [
       "Index(['symboling', 'normalized-losses', 'width', 'height', 'engine-size',\n",
       "       'horsepower', 'city-mpg', 'highway-mpg', 'price', 'make', 'fuel-type',\n",
       "       'body-style', 'drive-wheels', 'engine-location', 'engine-type'],\n",
       "      dtype='object')"
      ]
     },
     "execution_count": 15,
     "metadata": {},
     "output_type": "execute_result"
    }
   ],
   "source": [
    "#Performing the model with the help of LinearRegression\n",
    "#we want to predict the car's price which are contineous numeric value\n",
    "#apply multiple linear regression because many input means many independent\n",
    "#variables or features and one target\n",
    "df_new.columns"
   ]
  },
  {
   "cell_type": "code",
   "execution_count": 16,
   "id": "88be4de7",
   "metadata": {},
   "outputs": [
    {
     "data": {
      "text/plain": [
       "Index(['symboling', 'normalized-losses', 'width', 'height', 'engine-size',\n",
       "       'horsepower', 'city-mpg', 'highway-mpg', 'make', 'fuel-type',\n",
       "       'body-style', 'drive-wheels', 'engine-location', 'engine-type'],\n",
       "      dtype='object')"
      ]
     },
     "execution_count": 16,
     "metadata": {},
     "output_type": "execute_result"
    }
   ],
   "source": [
    "#Select input and output from dataframe df_new\n",
    "X=df_new.drop(\"price\",axis=1)\n",
    "X.columns"
   ]
  },
  {
   "cell_type": "code",
   "execution_count": 17,
   "id": "5cbaebb7",
   "metadata": {},
   "outputs": [],
   "source": [
    "#Select output from dataframe \n",
    "Y=df_new[\"price\"]"
   ]
  },
  {
   "cell_type": "code",
   "execution_count": 18,
   "id": "9e24524a",
   "metadata": {},
   "outputs": [],
   "source": [
    "from sklearn.model_selection import train_test_split"
   ]
  },
  {
   "cell_type": "code",
   "execution_count": 19,
   "id": "51d37f17",
   "metadata": {},
   "outputs": [],
   "source": [
    "#train_test_split() we separate dataset  X and Y in 70% and 30% for training and testing\n",
    "X_train,X_test,Y_train,Y_test=train_test_split(X,Y,test_size=0.3,random_state=1)"
   ]
  },
  {
   "cell_type": "code",
   "execution_count": 20,
   "id": "2dac63bf",
   "metadata": {},
   "outputs": [
    {
     "data": {
      "text/plain": [
       "(143, 14)"
      ]
     },
     "execution_count": 20,
     "metadata": {},
     "output_type": "execute_result"
    }
   ],
   "source": [
    "X_train.shape #Training no. of dataset"
   ]
  },
  {
   "cell_type": "code",
   "execution_count": 21,
   "id": "3d21dc7d",
   "metadata": {},
   "outputs": [
    {
     "data": {
      "text/plain": [
       "(205, 15)"
      ]
     },
     "execution_count": 21,
     "metadata": {},
     "output_type": "execute_result"
    }
   ],
   "source": [
    "df_new.shape #Total no. of dataset "
   ]
  },
  {
   "cell_type": "code",
   "execution_count": 22,
   "id": "28f2101d",
   "metadata": {},
   "outputs": [],
   "source": [
    "#Train model with LinearRegression model\n",
    "#call calss\n",
    "from sklearn.linear_model import LinearRegression"
   ]
  },
  {
   "cell_type": "code",
   "execution_count": 23,
   "id": "d2bca009",
   "metadata": {},
   "outputs": [],
   "source": [
    "#Create object of LinearRegression\n",
    "lr=LinearRegression()"
   ]
  },
  {
   "cell_type": "code",
   "execution_count": 24,
   "id": "3db798d1",
   "metadata": {},
   "outputs": [
    {
     "data": {
      "text/plain": [
       "LinearRegression()"
      ]
     },
     "execution_count": 24,
     "metadata": {},
     "output_type": "execute_result"
    }
   ],
   "source": [
    "#Train the model with 70% data: use fit() inbuilt function of LinearRegression\n",
    "lr.fit(X_train,Y_train)"
   ]
  },
  {
   "cell_type": "code",
   "execution_count": 25,
   "id": "6af8f8aa",
   "metadata": {},
   "outputs": [
    {
     "name": "stdout",
     "output_type": "stream",
     "text": [
      "training score : 0.8504573774895473\n"
     ]
    }
   ],
   "source": [
    "#Check training score: score() inbuilt function of LinearRegression class\n",
    "#Score() is simlilar to r2-score (values means range : 0 to 1)\n",
    "print(\"training score :\",lr.score(X_train,Y_train)) #Training score"
   ]
  },
  {
   "cell_type": "code",
   "execution_count": 26,
   "id": "ee9d6fb8",
   "metadata": {},
   "outputs": [
    {
     "name": "stdout",
     "output_type": "stream",
     "text": [
      "Testing Score : 0.7965566780397375\n"
     ]
    }
   ],
   "source": [
    "#Checkinh the testing score: use score() inbuilt method which similar to r2-score\n",
    "print(\"Testing Score :\",lr.score(X_test,Y_test))\n",
    "\n",
    "#or Y_pred=lr.predict(X_test)\n",
    "#or r2-score(Y_test,Y_pred)"
   ]
  },
  {
   "cell_type": "code",
   "execution_count": 27,
   "id": "bfe98e85",
   "metadata": {},
   "outputs": [],
   "source": [
    " #Here training score > testing score means testing error > training error means model is overfitting so remove \n",
    "# overfitting situation then add external error on training time means apply regularization."
   ]
  },
  {
   "cell_type": "code",
   "execution_count": 28,
   "id": "5a59c947",
   "metadata": {},
   "outputs": [
    {
     "name": "stdout",
     "output_type": "stream",
     "text": [
      "[ 4.51384957e+01  1.53127607e+00  7.89452171e+02  3.62663990e+02\n",
      "  9.83682875e+01 -1.08169245e+01  3.08017854e+02 -4.17024371e+02\n",
      " -2.00099087e+02 -6.22650015e+02 -1.70235175e+02  1.86860719e+03\n",
      "  1.64133620e+04  2.83174279e+02]\n",
      "45.14\n",
      "1.53\n",
      "789.45\n",
      "362.66\n",
      "98.37\n",
      "-10.82\n",
      "308.02\n",
      "-417.02\n",
      "-200.1\n",
      "-622.65\n",
      "-170.24\n",
      "1868.61\n",
      "16413.36\n",
      "283.17\n"
     ]
    }
   ],
   "source": [
    "#Check corfficient/slope of each input:inbuilt method of coef_of LinearRegression class\n",
    "m=lr.coef_\n",
    "print(m)\n",
    "for i in m:\n",
    "    print(np.round(i,2))"
   ]
  },
  {
   "cell_type": "code",
   "execution_count": 29,
   "id": "8c8bfe6a",
   "metadata": {},
   "outputs": [
    {
     "data": {
      "text/plain": [
       "-65022.76985995667"
      ]
     },
     "execution_count": 29,
     "metadata": {},
     "output_type": "execute_result"
    }
   ],
   "source": [
    "lr.intercept_ #check intercept"
   ]
  },
  {
   "cell_type": "markdown",
   "id": "f71e8d07",
   "metadata": {},
   "source": [
    "# 15-12-2021"
   ]
  },
  {
   "cell_type": "code",
   "execution_count": 30,
   "id": "71c3eeec",
   "metadata": {},
   "outputs": [],
   "source": [
    "#training score is overfitting means its more so we have to decrease it\n",
    "#use L1: Lasso and L2 : ridge Regularisation"
   ]
  },
  {
   "cell_type": "code",
   "execution_count": 31,
   "id": "e7329019",
   "metadata": {},
   "outputs": [
    {
     "data": {
      "text/plain": [
       "' Add some error during training time \\n   1. Lasso Regularization : L1  \\n   RSS+lambda*sum(abs(all coefficient)) here lambda is also known as \\n   hyper-parameter, value of lambda  can be 200,400,600,..1000\\n   2. Ridge Regularization : L2\\n   RSS+lambda*sum(square(all coefficient)) here lambda is also known as \\n   hyper-parameter, value of lambda  can be 0 to 50\\n'"
      ]
     },
     "execution_count": 31,
     "metadata": {},
     "output_type": "execute_result"
    }
   ],
   "source": [
    "''' Add some error during training time \n",
    "   1. Lasso Regularization : L1  \n",
    "   RSS+lambda*sum(abs(all coefficient)) here lambda is also known as \n",
    "   hyper-parameter, value of lambda  can be 200,400,600,..1000\n",
    "   2. Ridge Regularization : L2\n",
    "   RSS+lambda*sum(square(all coefficient)) here lambda is also known as \n",
    "   hyper-parameter, value of lambda  can be 0 to 50\n",
    "'''"
   ]
  },
  {
   "cell_type": "code",
   "execution_count": 32,
   "id": "0e4ca9c2",
   "metadata": {},
   "outputs": [],
   "source": [
    "#Lasso Regulrization means L1 call inbuilt class Laso\n",
    "from sklearn.linear_model import Lasso"
   ]
  },
  {
   "cell_type": "code",
   "execution_count": 33,
   "id": "4642cc46",
   "metadata": {},
   "outputs": [],
   "source": [
    "#Create the object of class Lasso\n",
    "l1=Lasso(1000)\n",
    "#passing the value of Lambda which are 200.....1000 during create \n",
    "#the object of class Lasso"
   ]
  },
  {
   "cell_type": "code",
   "execution_count": 34,
   "id": "6dd03f75",
   "metadata": {},
   "outputs": [
    {
     "data": {
      "text/plain": [
       "Lasso(alpha=1000)"
      ]
     },
     "execution_count": 34,
     "metadata": {},
     "output_type": "execute_result"
    }
   ],
   "source": [
    "#Again train the model,use inbuilt method fit() of Lasso class\n",
    "l1.fit(X_train,Y_train)"
   ]
  },
  {
   "cell_type": "markdown",
   "id": "a220e12d",
   "metadata": {},
   "source": [
    "# adding the error"
   ]
  },
  {
   "cell_type": "code",
   "execution_count": 35,
   "id": "98f8294e",
   "metadata": {},
   "outputs": [
    {
     "data": {
      "text/plain": [
       "array([   0.        ,    3.96310671,    0.        ,  276.93279232,\n",
       "        135.34169218,   16.00129073,   -0.        , -113.03311963,\n",
       "       -126.40695244,   -0.        ,   -0.        ,    0.        ,\n",
       "          0.        ,    0.        ])"
      ]
     },
     "execution_count": 35,
     "metadata": {},
     "output_type": "execute_result"
    }
   ],
   "source": [
    "#Checking the coefficent/slope value of each input after add the error on training time:use coef_inbuilt method of Lasso\n",
    "m1=l1.coef_\n",
    "m1"
   ]
  },
  {
   "cell_type": "markdown",
   "id": "f8e2c237",
   "metadata": {},
   "source": [
    "# without adding error"
   ]
  },
  {
   "cell_type": "code",
   "execution_count": 36,
   "id": "ea78e929",
   "metadata": {},
   "outputs": [
    {
     "name": "stdout",
     "output_type": "stream",
     "text": [
      "[45.14, 1.53, 789.45, 362.66, 98.37, -10.82, 308.02, -417.02, -200.1, -622.65, -170.24, 1868.61, 16413.36, 283.17]\n"
     ]
    }
   ],
   "source": [
    "#Check coefficient/slope of each input:inbuilt method of coef_of LinearRegression class\n",
    "m=lr.coef_\n",
    "m_before=[]\n",
    "for i in m:\n",
    "    m_before.append(np.round(i,2))\n",
    "\n",
    "print(m_before)"
   ]
  },
  {
   "cell_type": "code",
   "execution_count": 37,
   "id": "f1f1f0ad",
   "metadata": {},
   "outputs": [],
   "source": [
    "input=X.columns"
   ]
  },
  {
   "cell_type": "code",
   "execution_count": 38,
   "id": "1f8ab4fc",
   "metadata": {},
   "outputs": [
    {
     "data": {
      "text/plain": [
       "' In Lasso , coefficient of less imp features =0 and increase the \\ncoefficient of most imp features to predict the output\\nmeans Lasso is very important for feature selection '"
      ]
     },
     "execution_count": 38,
     "metadata": {},
     "output_type": "execute_result"
    }
   ],
   "source": [
    "''' In Lasso , coefficient of less imp features =0 and increase the \n",
    "coefficient of most imp features to predict the output\n",
    "means Lasso is very important for feature selection '''"
   ]
  },
  {
   "cell_type": "code",
   "execution_count": 39,
   "id": "069fd48a",
   "metadata": {},
   "outputs": [
    {
     "data": {
      "text/html": [
       "<div>\n",
       "<style scoped>\n",
       "    .dataframe tbody tr th:only-of-type {\n",
       "        vertical-align: middle;\n",
       "    }\n",
       "\n",
       "    .dataframe tbody tr th {\n",
       "        vertical-align: top;\n",
       "    }\n",
       "\n",
       "    .dataframe thead th {\n",
       "        text-align: right;\n",
       "    }\n",
       "</style>\n",
       "<table border=\"1\" class=\"dataframe\">\n",
       "  <thead>\n",
       "    <tr style=\"text-align: right;\">\n",
       "      <th></th>\n",
       "      <th>Input columns</th>\n",
       "      <th>Slope before add error</th>\n",
       "      <th>Slope after add error use Lasso</th>\n",
       "    </tr>\n",
       "  </thead>\n",
       "  <tbody>\n",
       "    <tr>\n",
       "      <th>0</th>\n",
       "      <td>symboling</td>\n",
       "      <td>45.14</td>\n",
       "      <td>0.000000</td>\n",
       "    </tr>\n",
       "    <tr>\n",
       "      <th>1</th>\n",
       "      <td>normalized-losses</td>\n",
       "      <td>1.53</td>\n",
       "      <td>3.963107</td>\n",
       "    </tr>\n",
       "    <tr>\n",
       "      <th>2</th>\n",
       "      <td>width</td>\n",
       "      <td>789.45</td>\n",
       "      <td>0.000000</td>\n",
       "    </tr>\n",
       "    <tr>\n",
       "      <th>3</th>\n",
       "      <td>height</td>\n",
       "      <td>362.66</td>\n",
       "      <td>276.932792</td>\n",
       "    </tr>\n",
       "    <tr>\n",
       "      <th>4</th>\n",
       "      <td>engine-size</td>\n",
       "      <td>98.37</td>\n",
       "      <td>135.341692</td>\n",
       "    </tr>\n",
       "    <tr>\n",
       "      <th>5</th>\n",
       "      <td>horsepower</td>\n",
       "      <td>-10.82</td>\n",
       "      <td>16.001291</td>\n",
       "    </tr>\n",
       "    <tr>\n",
       "      <th>6</th>\n",
       "      <td>city-mpg</td>\n",
       "      <td>308.02</td>\n",
       "      <td>-0.000000</td>\n",
       "    </tr>\n",
       "    <tr>\n",
       "      <th>7</th>\n",
       "      <td>highway-mpg</td>\n",
       "      <td>-417.02</td>\n",
       "      <td>-113.033120</td>\n",
       "    </tr>\n",
       "    <tr>\n",
       "      <th>8</th>\n",
       "      <td>make</td>\n",
       "      <td>-200.10</td>\n",
       "      <td>-126.406952</td>\n",
       "    </tr>\n",
       "    <tr>\n",
       "      <th>9</th>\n",
       "      <td>fuel-type</td>\n",
       "      <td>-622.65</td>\n",
       "      <td>-0.000000</td>\n",
       "    </tr>\n",
       "    <tr>\n",
       "      <th>10</th>\n",
       "      <td>body-style</td>\n",
       "      <td>-170.24</td>\n",
       "      <td>-0.000000</td>\n",
       "    </tr>\n",
       "    <tr>\n",
       "      <th>11</th>\n",
       "      <td>drive-wheels</td>\n",
       "      <td>1868.61</td>\n",
       "      <td>0.000000</td>\n",
       "    </tr>\n",
       "    <tr>\n",
       "      <th>12</th>\n",
       "      <td>engine-location</td>\n",
       "      <td>16413.36</td>\n",
       "      <td>0.000000</td>\n",
       "    </tr>\n",
       "    <tr>\n",
       "      <th>13</th>\n",
       "      <td>engine-type</td>\n",
       "      <td>283.17</td>\n",
       "      <td>0.000000</td>\n",
       "    </tr>\n",
       "  </tbody>\n",
       "</table>\n",
       "</div>"
      ],
      "text/plain": [
       "        Input columns  Slope before add error  Slope after add error use Lasso\n",
       "0           symboling                   45.14                         0.000000\n",
       "1   normalized-losses                    1.53                         3.963107\n",
       "2               width                  789.45                         0.000000\n",
       "3              height                  362.66                       276.932792\n",
       "4         engine-size                   98.37                       135.341692\n",
       "5          horsepower                  -10.82                        16.001291\n",
       "6            city-mpg                  308.02                        -0.000000\n",
       "7         highway-mpg                 -417.02                      -113.033120\n",
       "8                make                 -200.10                      -126.406952\n",
       "9           fuel-type                 -622.65                        -0.000000\n",
       "10         body-style                 -170.24                        -0.000000\n",
       "11       drive-wheels                 1868.61                         0.000000\n",
       "12    engine-location                16413.36                         0.000000\n",
       "13        engine-type                  283.17                         0.000000"
      ]
     },
     "execution_count": 39,
     "metadata": {},
     "output_type": "execute_result"
    }
   ],
   "source": [
    "#create dict\n",
    "d={\"Input columns\":input,\"Slope before add error\":m_before,\n",
    "  \"Slope after add error use Lasso\":m1}\n",
    "#convert dictionary into dataframe\n",
    "data=pd.DataFrame(d)\n",
    "data"
   ]
  },
  {
   "cell_type": "code",
   "execution_count": 40,
   "id": "01c573d1",
   "metadata": {},
   "outputs": [
    {
     "data": {
      "text/plain": [
       "0.7909522259248711"
      ]
     },
     "execution_count": 40,
     "metadata": {},
     "output_type": "execute_result"
    }
   ],
   "source": [
    "#To find the score after apply Lasso :Luse score() inbuilt method of Lasso it is similar to r2-score\n",
    "l1.score(X_test,Y_test)"
   ]
  },
  {
   "cell_type": "code",
   "execution_count": 41,
   "id": "4b34a119",
   "metadata": {},
   "outputs": [
    {
     "data": {
      "text/plain": [
       "0.7571378367701931"
      ]
     },
     "execution_count": 41,
     "metadata": {},
     "output_type": "execute_result"
    }
   ],
   "source": [
    "l1.score(X_train,Y_train)"
   ]
  },
  {
   "cell_type": "code",
   "execution_count": 42,
   "id": "31403d4d",
   "metadata": {},
   "outputs": [
    {
     "name": "stdout",
     "output_type": "stream",
     "text": [
      "Value of Lambda :  200 Score  0.8139201358023782\n",
      "Value of Lambda :  250 Score  0.8124219090780234\n",
      "Value of Lambda :  300 Score  0.8085057299003376\n",
      "Value of Lambda :  350 Score  0.8036053753129062\n",
      "Value of Lambda :  400 Score  0.7977229768452246\n",
      "Value of Lambda :  450 Score  0.7950465607641614\n",
      "Value of Lambda :  500 Score  0.7946028204251037\n",
      "Value of Lambda :  550 Score  0.7942485978551438\n",
      "Value of Lambda :  600 Score  0.7938656404830353\n",
      "Value of Lambda :  650 Score  0.7934536226456452\n",
      "Value of Lambda :  700 Score  0.7930208714948073\n",
      "Value of Lambda :  750 Score  0.7925637235065691\n",
      "Value of Lambda :  800 Score  0.7920812896372942\n",
      "Value of Lambda :  850 Score  0.7915726589657284\n",
      "Value of Lambda :  900 Score  0.7910703319438238\n",
      "Value of Lambda :  950 Score  0.7910205756985366\n",
      "Value of Lambda :  1000 Score  0.7909522259248711\n"
     ]
    }
   ],
   "source": [
    "#How to select the right value of lambda (alpha or hyper-parameter)\n",
    "#simple technique : -\n",
    "#Lasso regularization \n",
    "for i in range(200,1001,50) :  #start=200 stop=1001-1=1000  step=+50 by default\n",
    "    #create the object of Lasso class\n",
    "    l1=Lasso(i)  #first put the value of i=200 then i=250 ,300,350,....1000\n",
    "    #RSS+i*sum(abs(all coef))\n",
    "    l1.fit(X_train,Y_train) #train the model from lasso\n",
    "    #check score \n",
    "    score=l1.score(X_test,Y_test) #find out the score means testing 30% data\n",
    "    print(\"Value of Lambda : \" ,i ,\"Score \" ,score)"
   ]
  },
  {
   "cell_type": "code",
   "execution_count": 43,
   "id": "77d22d3d",
   "metadata": {},
   "outputs": [
    {
     "data": {
      "text/plain": [
       "'In Lasso , coefficient of less imp features =0 and increase the \\ncoefficient of most imp features to predict the output\\nmeans Lasso is very important for feature selection '"
      ]
     },
     "execution_count": 43,
     "metadata": {},
     "output_type": "execute_result"
    }
   ],
   "source": [
    "'''In Lasso , coefficient of less imp features =0 and increase the \n",
    "coefficient of most imp features to predict the output\n",
    "means Lasso is very important for feature selection '''"
   ]
  },
  {
   "cell_type": "markdown",
   "id": "fd65d49b",
   "metadata": {},
   "source": [
    "# RIDGE"
   ]
  },
  {
   "cell_type": "code",
   "execution_count": 44,
   "id": "71d6081c",
   "metadata": {},
   "outputs": [],
   "source": [
    "#ridge regularization:-\n",
    "#ridge regularization means L2 call inbuilt class ridge\n",
    "from sklearn.linear_model import Ridge"
   ]
  },
  {
   "cell_type": "code",
   "execution_count": 45,
   "id": "b26ae712",
   "metadata": {},
   "outputs": [],
   "source": [
    "#Create object of ridge class \n",
    "l2=Ridge(10)\n",
    "#passing the value of Lambda which are 0 to 50 during create\n",
    "#the object of class Ridge RSS+Lambda*sum(sqrt(all coef))"
   ]
  },
  {
   "cell_type": "code",
   "execution_count": 46,
   "id": "5eb0f742",
   "metadata": {},
   "outputs": [
    {
     "data": {
      "text/plain": [
       "Ridge(alpha=10)"
      ]
     },
     "execution_count": 46,
     "metadata": {},
     "output_type": "execute_result"
    }
   ],
   "source": [
    "#Train the model with ridge\n",
    "l2.fit(X_train,Y_train)"
   ]
  },
  {
   "cell_type": "code",
   "execution_count": 47,
   "id": "6ecc926c",
   "metadata": {},
   "outputs": [
    {
     "name": "stdout",
     "output_type": "stream",
     "text": [
      "[208.7, -0.6, 364.4, 572.9, 104.4, 22.1, 211.3, -272.9, -186.3, -906.6, -630.7, 1568.6, 2570.5, 515.9]\n"
     ]
    }
   ],
   "source": [
    "#Checking the coefficent/slope value of each input after add the error on training time:use coef_inbuilt method of ridge\n",
    "m2=l2.coef_\n",
    "m2_after=[]\n",
    "for i in m2:\n",
    "    m2_after.append(np.round(i,1))\n",
    "print(m2_after)"
   ]
  },
  {
   "cell_type": "code",
   "execution_count": 48,
   "id": "fcbb8b7d",
   "metadata": {},
   "outputs": [
    {
     "data": {
      "text/html": [
       "<div>\n",
       "<style scoped>\n",
       "    .dataframe tbody tr th:only-of-type {\n",
       "        vertical-align: middle;\n",
       "    }\n",
       "\n",
       "    .dataframe tbody tr th {\n",
       "        vertical-align: top;\n",
       "    }\n",
       "\n",
       "    .dataframe thead th {\n",
       "        text-align: right;\n",
       "    }\n",
       "</style>\n",
       "<table border=\"1\" class=\"dataframe\">\n",
       "  <thead>\n",
       "    <tr style=\"text-align: right;\">\n",
       "      <th></th>\n",
       "      <th>Input columns</th>\n",
       "      <th>Slope before add error</th>\n",
       "      <th>Slope after add error use Lasso</th>\n",
       "    </tr>\n",
       "  </thead>\n",
       "  <tbody>\n",
       "    <tr>\n",
       "      <th>0</th>\n",
       "      <td>symboling</td>\n",
       "      <td>45.14</td>\n",
       "      <td>208.7</td>\n",
       "    </tr>\n",
       "    <tr>\n",
       "      <th>1</th>\n",
       "      <td>normalized-losses</td>\n",
       "      <td>1.53</td>\n",
       "      <td>-0.6</td>\n",
       "    </tr>\n",
       "    <tr>\n",
       "      <th>2</th>\n",
       "      <td>width</td>\n",
       "      <td>789.45</td>\n",
       "      <td>364.4</td>\n",
       "    </tr>\n",
       "    <tr>\n",
       "      <th>3</th>\n",
       "      <td>height</td>\n",
       "      <td>362.66</td>\n",
       "      <td>572.9</td>\n",
       "    </tr>\n",
       "    <tr>\n",
       "      <th>4</th>\n",
       "      <td>engine-size</td>\n",
       "      <td>98.37</td>\n",
       "      <td>104.4</td>\n",
       "    </tr>\n",
       "    <tr>\n",
       "      <th>5</th>\n",
       "      <td>horsepower</td>\n",
       "      <td>-10.82</td>\n",
       "      <td>22.1</td>\n",
       "    </tr>\n",
       "    <tr>\n",
       "      <th>6</th>\n",
       "      <td>city-mpg</td>\n",
       "      <td>308.02</td>\n",
       "      <td>211.3</td>\n",
       "    </tr>\n",
       "    <tr>\n",
       "      <th>7</th>\n",
       "      <td>highway-mpg</td>\n",
       "      <td>-417.02</td>\n",
       "      <td>-272.9</td>\n",
       "    </tr>\n",
       "    <tr>\n",
       "      <th>8</th>\n",
       "      <td>make</td>\n",
       "      <td>-200.10</td>\n",
       "      <td>-186.3</td>\n",
       "    </tr>\n",
       "    <tr>\n",
       "      <th>9</th>\n",
       "      <td>fuel-type</td>\n",
       "      <td>-622.65</td>\n",
       "      <td>-906.6</td>\n",
       "    </tr>\n",
       "    <tr>\n",
       "      <th>10</th>\n",
       "      <td>body-style</td>\n",
       "      <td>-170.24</td>\n",
       "      <td>-630.7</td>\n",
       "    </tr>\n",
       "    <tr>\n",
       "      <th>11</th>\n",
       "      <td>drive-wheels</td>\n",
       "      <td>1868.61</td>\n",
       "      <td>1568.6</td>\n",
       "    </tr>\n",
       "    <tr>\n",
       "      <th>12</th>\n",
       "      <td>engine-location</td>\n",
       "      <td>16413.36</td>\n",
       "      <td>2570.5</td>\n",
       "    </tr>\n",
       "    <tr>\n",
       "      <th>13</th>\n",
       "      <td>engine-type</td>\n",
       "      <td>283.17</td>\n",
       "      <td>515.9</td>\n",
       "    </tr>\n",
       "  </tbody>\n",
       "</table>\n",
       "</div>"
      ],
      "text/plain": [
       "        Input columns  Slope before add error  Slope after add error use Lasso\n",
       "0           symboling                   45.14                            208.7\n",
       "1   normalized-losses                    1.53                             -0.6\n",
       "2               width                  789.45                            364.4\n",
       "3              height                  362.66                            572.9\n",
       "4         engine-size                   98.37                            104.4\n",
       "5          horsepower                  -10.82                             22.1\n",
       "6            city-mpg                  308.02                            211.3\n",
       "7         highway-mpg                 -417.02                           -272.9\n",
       "8                make                 -200.10                           -186.3\n",
       "9           fuel-type                 -622.65                           -906.6\n",
       "10         body-style                 -170.24                           -630.7\n",
       "11       drive-wheels                 1868.61                           1568.6\n",
       "12    engine-location                16413.36                           2570.5\n",
       "13        engine-type                  283.17                            515.9"
      ]
     },
     "execution_count": 48,
     "metadata": {},
     "output_type": "execute_result"
    }
   ],
   "source": [
    "#Create dictionary\n",
    "d={\"Input columns\":input,\"Slope before add error\":m_before,\n",
    "  \"Slope after add error use Lasso\":m2_after}\n",
    "#convert dictionary into dataframe\n",
    "data=pd.DataFrame(d)\n",
    "data"
   ]
  },
  {
   "cell_type": "code",
   "execution_count": 49,
   "id": "3d0b45e0",
   "metadata": {},
   "outputs": [
    {
     "data": {
      "text/plain": [
       "' In Ridge , coefficient of less imp features is decrease and increase the \\ncoefficient of most imp features to predict the output\\n '"
      ]
     },
     "execution_count": 49,
     "metadata": {},
     "output_type": "execute_result"
    }
   ],
   "source": [
    "''' In Ridge , coefficient of less imp features is decrease and increase the \n",
    "coefficient of most imp features to predict the output\n",
    " '''"
   ]
  },
  {
   "cell_type": "code",
   "execution_count": 50,
   "id": "6c0781c0",
   "metadata": {},
   "outputs": [
    {
     "name": "stdout",
     "output_type": "stream",
     "text": [
      "Value of Lambda :  0 Score  0.796556678039738\n",
      "Value of Lambda :  1 Score  0.8074518758147271\n",
      "Value of Lambda :  2 Score  0.8110292248150516\n",
      "Value of Lambda :  3 Score  0.8126933383890032\n",
      "Value of Lambda :  4 Score  0.81361486450293\n",
      "Value of Lambda :  5 Score  0.8141745853539418\n",
      "Value of Lambda :  6 Score  0.8145301242133357\n",
      "Value of Lambda :  7 Score  0.8147582608502812\n",
      "Value of Lambda :  8 Score  0.8149010602831951\n",
      "Value of Lambda :  9 Score  0.8149836949253052\n",
      "Value of Lambda :  10 Score  0.815022286737653\n",
      "Value of Lambda :  11 Score  0.8150277245431792\n",
      "Value of Lambda :  12 Score  0.8150076788279418\n",
      "Value of Lambda :  13 Score  0.8149677381788262\n",
      "Value of Lambda :  14 Score  0.8149120868051177\n",
      "Value of Lambda :  15 Score  0.814843927825252\n",
      "Value of Lambda :  16 Score  0.8147657584947391\n",
      "Value of Lambda :  17 Score  0.8146795554128126\n",
      "Value of Lambda :  18 Score  0.8145869029046836\n",
      "Value of Lambda :  19 Score  0.8144890843369587\n",
      "Value of Lambda :  20 Score  0.8143871485445551\n",
      "Value of Lambda :  21 Score  0.8142819591129826\n",
      "Value of Lambda :  22 Score  0.8141742315788496\n",
      "Value of Lambda :  23 Score  0.814064561942154\n",
      "Value of Lambda :  24 Score  0.8139534488166063\n",
      "Value of Lambda :  25 Score  0.8138413108452037\n",
      "Value of Lambda :  26 Score  0.8137285005403767\n",
      "Value of Lambda :  27 Score  0.8136153153884842\n",
      "Value of Lambda :  28 Score  0.8135020068362638\n",
      "Value of Lambda :  29 Score  0.813388787619721\n",
      "Value of Lambda :  30 Score  0.8132758377831446\n",
      "Value of Lambda :  31 Score  0.8131633096537952\n",
      "Value of Lambda :  32 Score  0.8130513319772296\n",
      "Value of Lambda :  33 Score  0.8129400133729976\n",
      "Value of Lambda :  34 Score  0.8128294452363017\n",
      "Value of Lambda :  35 Score  0.8127197041851859\n",
      "Value of Lambda :  36 Score  0.8126108541327802\n",
      "Value of Lambda :  37 Score  0.8125029480485758\n",
      "Value of Lambda :  38 Score  0.812396029460508\n",
      "Value of Lambda :  39 Score  0.8122901337400303\n",
      "Value of Lambda :  40 Score  0.8121852892047277\n",
      "Value of Lambda :  41 Score  0.8120815180669059\n",
      "Value of Lambda :  42 Score  0.8119788372516914\n",
      "Value of Lambda :  43 Score  0.811877259104192\n",
      "Value of Lambda :  44 Score  0.8117767920020496\n",
      "Value of Lambda :  45 Score  0.8116774408870531\n",
      "Value of Lambda :  46 Score  0.8115792077273275\n",
      "Value of Lambda :  47 Score  0.8114820919198036\n",
      "Value of Lambda :  48 Score  0.8113860906412016\n",
      "Value of Lambda :  49 Score  0.8112911991545092\n",
      "Value of Lambda :  50 Score  0.8111974110769211\n"
     ]
    }
   ],
   "source": [
    "#How to select the right value of lambda (alpha or hyper-parameter)\n",
    "#simple technique : -\n",
    "#Ridge regularization \n",
    "for i in range(51) :  #start=0 stop=51-1=50  step=+1 by default\n",
    "    #create the object of Ridge class\n",
    "    l2=Ridge(i)  #first put the value of i=0 then i=1,2,3,....50\n",
    "    #RSS+i*sum(abs(all coef))\n",
    "    l2.fit(X_train,Y_train) #train the model from lasso\n",
    "    #check score \n",
    "    score=l2.score(X_test,Y_test) #find out the score means testing 30% data\n",
    "    print(\"Value of Lambda : \" ,i ,\"Score \" ,score)"
   ]
  },
  {
   "cell_type": "code",
   "execution_count": 51,
   "id": "62a53545",
   "metadata": {},
   "outputs": [],
   "source": [
    "#In ridge : value of lambda means alpha=2 , score : 0.81\n",
    "#In Lasso , Value of Lambda :  200 , Score  0.8139201358023778\n",
    "#good score .81 both lasso and ridge regularization"
   ]
  },
  {
   "cell_type": "markdown",
   "id": "9a7b4593",
   "metadata": {},
   "source": [
    "# Cross validation"
   ]
  },
  {
   "cell_type": "code",
   "execution_count": 52,
   "id": "58a92bd8",
   "metadata": {},
   "outputs": [],
   "source": [
    "from sklearn.model_selection import cross_val_score # cross_val_score inbuilt method \n",
    "#Create the object of Lasso class and pass value of alpha or lambda\n",
    "l1=Lasso(200)"
   ]
  },
  {
   "cell_type": "code",
   "execution_count": 53,
   "id": "e440dd02",
   "metadata": {},
   "outputs": [
    {
     "data": {
      "text/plain": [
       "array([0.76560829, 0.81872367, 0.43344753, 0.448364  ])"
      ]
     },
     "execution_count": 53,
     "metadata": {},
     "output_type": "execute_result"
    }
   ],
   "source": [
    "#create the object of cross_val_score class(for cross validation)\n",
    "#first apply for Lasso\n",
    "l1_cross=cross_val_score(l1,X,Y,cv=4) #here l1 object of Lasso and \n",
    "#X input and Y output cv means divided the no. of parts of data=4\n",
    "l1_cross"
   ]
  },
  {
   "cell_type": "code",
   "execution_count": 54,
   "id": "a4d38e3f",
   "metadata": {},
   "outputs": [
    {
     "data": {
      "text/plain": [
       "0.6165358705430692"
      ]
     },
     "execution_count": 54,
     "metadata": {},
     "output_type": "execute_result"
    }
   ],
   "source": [
    "#To find the average of L1_cross\n",
    "l1_cross.mean()"
   ]
  },
  {
   "cell_type": "code",
   "execution_count": 55,
   "id": "52e26bdb",
   "metadata": {},
   "outputs": [],
   "source": [
    "#Ridge\n",
    "#Create the object of Ridge class and pass value of alpha or lambda\n",
    "l2=Ridge(2)"
   ]
  },
  {
   "cell_type": "code",
   "execution_count": 56,
   "id": "84deee4e",
   "metadata": {},
   "outputs": [
    {
     "data": {
      "text/plain": [
       "array([0.71176474, 0.86474228, 0.37640664, 0.47020196])"
      ]
     },
     "execution_count": 56,
     "metadata": {},
     "output_type": "execute_result"
    }
   ],
   "source": [
    "#create the object of cross_val_score class(for cross validation)\n",
    "#first apply for Lasso\n",
    "l2_cross=cross_val_score(l2,X,Y,cv=4) #here l1 object of Lasso and \n",
    "#X input and Y output cv means divided the no. of parts of data=4\n",
    "l2_cross"
   ]
  },
  {
   "cell_type": "code",
   "execution_count": 57,
   "id": "bff44b02",
   "metadata": {},
   "outputs": [
    {
     "data": {
      "text/plain": [
       "0.6057789059244743"
      ]
     },
     "execution_count": 57,
     "metadata": {},
     "output_type": "execute_result"
    }
   ],
   "source": [
    "#To find the average of L1_cross\n",
    "l2_cross.mean()"
   ]
  },
  {
   "cell_type": "code",
   "execution_count": 58,
   "id": "8b4ccbd1",
   "metadata": {},
   "outputs": [],
   "source": [
    "#Mean of Lasso is greater than Ridge so Select Lasso Regularization\n",
    "#in this dataset\n",
    "#mean of lasso regularization : 0.61\n",
    "#mean of Ridge regularization : 0.60\n",
    "#in this dataset automobile_data.csv, Lasso regularisation is best as \n",
    "#compared to Ridge regularisation because average means mean of  of  score\n",
    "#of lasso is greater than ridge regularisation"
   ]
  },
  {
   "cell_type": "code",
   "execution_count": null,
   "id": "61fec798",
   "metadata": {},
   "outputs": [],
   "source": []
  },
  {
   "cell_type": "code",
   "execution_count": null,
   "id": "6238fb13",
   "metadata": {},
   "outputs": [],
   "source": []
  }
 ],
 "metadata": {
  "kernelspec": {
   "display_name": "Python 3",
   "language": "python",
   "name": "python3"
  },
  "language_info": {
   "codemirror_mode": {
    "name": "ipython",
    "version": 3
   },
   "file_extension": ".py",
   "mimetype": "text/x-python",
   "name": "python",
   "nbconvert_exporter": "python",
   "pygments_lexer": "ipython3",
   "version": "3.8.8"
  }
 },
 "nbformat": 4,
 "nbformat_minor": 5
}
